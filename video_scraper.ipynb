{
 "cells": [
  {
   "cell_type": "code",
   "execution_count": 1,
   "metadata": {},
   "outputs": [],
   "source": [
    "from pytubefix import YouTube\n",
    "from pytubefix.cli import on_progress\n",
    "import pandas as pd"
   ]
  },
  {
   "cell_type": "code",
   "execution_count": 6,
   "metadata": {},
   "outputs": [],
   "source": [
    "videos_df = pd.read_csv('videos_df.csv')\n",
    "urls = videos_df['video_id']"
   ]
  },
  {
   "cell_type": "code",
   "execution_count": 7,
   "metadata": {},
   "outputs": [
    {
     "name": "stdout",
     "output_type": "stream",
     "text": [
      "Google Pixel 9 Pro Review - Redemption Time!?\n",
      "Samsung S24 Ultra Review - Goodbye iPhone?██████| 100.0%\n",
      " ↳ |████████████████████████████████████████████| 100.0%\r"
     ]
    }
   ],
   "source": [
    "for url in urls: \n",
    "    try:\n",
    "        # Specify your desired download path\n",
    "        download_path = \"Videos\" \n",
    "\n",
    "        yt = YouTube(url, on_progress_callback=on_progress)\n",
    "        print(yt.title)\n",
    "\n",
    "        # Get the highest resolution stream\n",
    "        ys = yt.streams.get_highest_resolution()\n",
    "\n",
    "        # Download the video to the specified path\n",
    "        ys.download(output_path=download_path)\n",
    "    except:\n",
    "        print(f\"Failed to download {url}: {e}\")"
   ]
  },
  {
   "cell_type": "code",
   "execution_count": null,
   "metadata": {},
   "outputs": [],
   "source": []
  }
 ],
 "metadata": {
  "kernelspec": {
   "display_name": "base",
   "language": "python",
   "name": "python3"
  },
  "language_info": {
   "codemirror_mode": {
    "name": "ipython",
    "version": 3
   },
   "file_extension": ".py",
   "mimetype": "text/x-python",
   "name": "python",
   "nbconvert_exporter": "python",
   "pygments_lexer": "ipython3",
   "version": "3.12.4"
  }
 },
 "nbformat": 4,
 "nbformat_minor": 2
}
