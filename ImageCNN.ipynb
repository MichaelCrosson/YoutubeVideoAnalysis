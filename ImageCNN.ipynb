{
 "cells": [
  {
   "cell_type": "markdown",
   "metadata": {
    "id": "gj6GSchoY9fP"
   },
   "source": [
    "## Loading"
   ]
  },
  {
   "cell_type": "code",
   "execution_count": 1,
   "metadata": {
    "colab": {
     "base_uri": "https://localhost:8080/"
    },
    "id": "u2thCV_CTH7d",
    "outputId": "260074e6-3910-428d-a6ae-69964d626314"
   },
   "outputs": [
    {
     "name": "stderr",
     "output_type": "stream",
     "text": [
      "c:\\Users\\nosso\\anaconda3\\lib\\site-packages\\pandas\\core\\arrays\\masked.py:60: UserWarning: Pandas requires version '1.3.6' or newer of 'bottleneck' (version '1.3.5' currently installed).\n",
      "  from pandas.core import (\n"
     ]
    }
   ],
   "source": [
    "import cv2\n",
    "import numpy as np\n",
    "import pandas as pd\n",
    "from moviepy.editor import VideoFileClip\n",
    "from tqdm import tqdm\n",
    "import tensorflow as tf\n",
    "from tensorflow.keras.layers import Conv2D, Conv2DTranspose, Dense, Flatten, Reshape, Input\n",
    "from tensorflow.keras.models import Model\n",
    "from sklearn.decomposition import PCA"
   ]
  },
  {
   "cell_type": "markdown",
   "metadata": {
    "id": "znUALn4sZCjP"
   },
   "source": [
    "## Main"
   ]
  },
  {
   "cell_type": "code",
   "execution_count": 2,
   "metadata": {
    "id": "3rk2SME6TMj5"
   },
   "outputs": [],
   "source": [
    "# Helper function to extract frames from video\n",
    "def extract_frames(video_path, frame_rate=1):\n",
    "    clip = VideoFileClip(video_path)\n",
    "    fps = clip.fps\n",
    "    frame_list = []\n",
    "    timestamps = []\n",
    "\n",
    "    for i, frame in enumerate(clip.iter_frames()):\n",
    "        if i % int(fps / frame_rate) == 0:\n",
    "            frame_list.append(frame)\n",
    "            timestamps.append(i / fps)\n",
    "\n",
    "    return frame_list, timestamps"
   ]
  },
  {
   "cell_type": "code",
   "execution_count": 3,
   "metadata": {
    "id": "eRd48_dXUShJ"
   },
   "outputs": [],
   "source": [
    "def process_frames_to_dataframe(frames, timestamps):\n",
    "    def build_autoencoder(input_shape=(224, 224, 3)):\n",
    "        input_layer = Input(shape=input_shape)\n",
    "\n",
    "        # Encoder\n",
    "        x = Conv2D(16, (3, 3), activation='relu', padding='same')(input_layer)\n",
    "        x = Conv2D(32, (3, 3), activation='relu', padding='same')(x)\n",
    "        x = Flatten()(x)\n",
    "        latent_space = Dense(64, activation='relu', name='latent_features')(x)\n",
    "\n",
    "        # Decoder\n",
    "        x = Dense(224 * 224 * 3, activation='relu')(latent_space)\n",
    "        decoded_output = Reshape((224, 224, 3))(x)\n",
    "\n",
    "        # Models\n",
    "        autoencoder = Model(inputs=input_layer, outputs=decoded_output)\n",
    "        encoder = Model(inputs=input_layer, outputs=latent_space)\n",
    "\n",
    "        autoencoder.compile(optimizer='adam', loss='mse')\n",
    "        return autoencoder, encoder\n",
    "\n",
    "    def manual_kmeans(data, n_clusters, max_iter=10, tol=1e-4):\n",
    "        # Randomly initialize centroids using a small sample of the data\n",
    "        np.random.seed(0)\n",
    "        centroids = data[np.random.choice(data.shape[0], n_clusters, replace=False)]\n",
    "\n",
    "        for iteration in range(max_iter):\n",
    "            # Compute distances and assign clusters (vectorized)\n",
    "            distances = np.linalg.norm(data[:, None, :] - centroids[None, :, :], axis=2)\n",
    "            labels = np.argmin(distances, axis=1)\n",
    "\n",
    "            # Compute new centroids\n",
    "            new_centroids = np.array([\n",
    "                data[labels == cluster].mean(axis=0) if (labels == cluster).any() else centroids[cluster]\n",
    "                for cluster in range(n_clusters)\n",
    "            ])\n",
    "\n",
    "            # Check for convergence\n",
    "            if np.all(np.linalg.norm(new_centroids - centroids, axis=1) < tol):\n",
    "                break\n",
    "\n",
    "            centroids = new_centroids\n",
    "\n",
    "        return centroids, labels\n",
    "\n",
    "    print(\"Resizing frames...\")\n",
    "    resized_frames = np.array([cv2.resize(frame, (224, 224)) for frame in frames])\n",
    "    resized_frames = resized_frames / 255.0\n",
    "\n",
    "    autoencoder, encoder = build_autoencoder()\n",
    "    autoencoder.summary()\n",
    "\n",
    "    frames = np.array(resized_frames)\n",
    "\n",
    "    print(\"Training the autoencoder...\")\n",
    "    autoencoder.fit(frames, frames, epochs=10, batch_size=32, verbose=1)\n",
    "\n",
    "    print(\"Extracting latent features...\")\n",
    "    latent_features = encoder.predict(frames)\n",
    "\n",
    "    print(\"Calculating brightness...\")\n",
    "    brightness = np.array([\n",
    "        frame.sum() / (frame.shape[0] * frame.shape[1] * frame.shape[2]) for frame in frames\n",
    "    ])\n",
    "\n",
    "    print(\"Clustering for dominant colors...\")\n",
    "    reshaped_frames = frames.reshape(-1, 3)  # Flatten frames to pixel-level colors\n",
    "\n",
    "    # Sample a subset of pixels for clustering\n",
    "    sample_indices = np.random.choice(reshaped_frames.shape[0], size=10000, replace=False)\n",
    "    sampled_pixels = reshaped_frames[sample_indices]\n",
    "\n",
    "    # Perform manual K-Means clustering on the sampled pixels\n",
    "    dominant_colors, _ = manual_kmeans(sampled_pixels, n_clusters=3)\n",
    "\n",
    "    # Map dominant colors back to frames\n",
    "    color_features = []\n",
    "    for frame_pixels in tqdm(frames, desc=\"Mapping dominant colors to frames\"):\n",
    "        frame_pixels = frame_pixels.reshape(-1, 3)\n",
    "        distances = np.linalg.norm(frame_pixels[:, None, :] - dominant_colors[None, :, :], axis=2)\n",
    "        labels = np.argmin(distances, axis=1)\n",
    "\n",
    "        # Calculate average colors for the frame\n",
    "        color_sums = np.zeros((3, 3))\n",
    "        count = np.zeros(3)\n",
    "        for label, pixel in zip(labels, frame_pixels):\n",
    "            color_sums[label] += pixel\n",
    "            count[label] += 1\n",
    "\n",
    "        avg_colors = np.divide(color_sums, count[:, None], where=(count[:, None] != 0))\n",
    "        color_features.append(avg_colors.mean(axis=0))  # Combine per-cluster colors\n",
    "\n",
    "    print(\"Reducing dimensions of latent features...\")\n",
    "    pca = PCA(n_components=2)\n",
    "    reduced_features = pca.fit_transform(latent_features)\n",
    "\n",
    "    print(\"Combining features into a DataFrame...\")\n",
    "    data = {\n",
    "        \"timestamp\": timestamps,\n",
    "        \"brightness\": brightness,\n",
    "        \"color1\": [c[0] for c in color_features],\n",
    "        \"color2\": [c[1] for c in color_features],\n",
    "        \"color3\": [c[2] for c in color_features],\n",
    "        \"feature1\": reduced_features[:, 0],\n",
    "        \"feature2\": reduced_features[:, 1],\n",
    "    }\n",
    "    feature_df = pd.DataFrame(data)\n",
    "\n",
    "    return feature_df\n"
   ]
  },
  {
   "cell_type": "code",
   "execution_count": 4,
   "metadata": {
    "id": "6Y6nCpzyTdWP"
   },
   "outputs": [],
   "source": [
    "# Main function to process video and return a DataFrame\n",
    "def analyze_video(video_path):\n",
    "    print(\"Extracting frames from video...\")\n",
    "    frames, timestamps = extract_frames(video_path, frame_rate=1)\n",
    "\n",
    "    print(\"Analyzing frames...\")\n",
    "    df = process_frames_to_dataframe(frames, timestamps)\n",
    "\n",
    "    return df"
   ]
  },
  {
   "cell_type": "markdown",
   "metadata": {
    "id": "j7k0umvVYCUo"
   },
   "source": [
    "## Run"
   ]
  },
  {
   "cell_type": "code",
   "execution_count": 5,
   "metadata": {
    "colab": {
     "base_uri": "https://localhost:8080/",
     "height": 557
    },
    "id": "88M5Kk_CTWy8",
    "outputId": "32d082f1-5adb-4d9c-88fb-f31af957a2b1"
   },
   "outputs": [
    {
     "name": "stdout",
     "output_type": "stream",
     "text": [
      "Extracting frames from video...\n",
      "Analyzing frames...\n",
      "Resizing frames...\n"
     ]
    },
    {
     "data": {
      "text/html": [
       "<pre style=\"white-space:pre;overflow-x:auto;line-height:normal;font-family:Menlo,'DejaVu Sans Mono',consolas,'Courier New',monospace\"><span style=\"font-weight: bold\">Model: \"functional\"</span>\n",
       "</pre>\n"
      ],
      "text/plain": [
       "\u001b[1mModel: \"functional\"\u001b[0m\n"
      ]
     },
     "metadata": {},
     "output_type": "display_data"
    },
    {
     "data": {
      "text/html": [
       "<pre style=\"white-space:pre;overflow-x:auto;line-height:normal;font-family:Menlo,'DejaVu Sans Mono',consolas,'Courier New',monospace\">┏━━━━━━━━━━━━━━━━━━━━━━━━━━━━━━━━━┳━━━━━━━━━━━━━━━━━━━━━━━━┳━━━━━━━━━━━━━━━┓\n",
       "┃<span style=\"font-weight: bold\"> Layer (type)                    </span>┃<span style=\"font-weight: bold\"> Output Shape           </span>┃<span style=\"font-weight: bold\">       Param # </span>┃\n",
       "┡━━━━━━━━━━━━━━━━━━━━━━━━━━━━━━━━━╇━━━━━━━━━━━━━━━━━━━━━━━━╇━━━━━━━━━━━━━━━┩\n",
       "│ input_layer (<span style=\"color: #0087ff; text-decoration-color: #0087ff\">InputLayer</span>)        │ (<span style=\"color: #00d7ff; text-decoration-color: #00d7ff\">None</span>, <span style=\"color: #00af00; text-decoration-color: #00af00\">224</span>, <span style=\"color: #00af00; text-decoration-color: #00af00\">224</span>, <span style=\"color: #00af00; text-decoration-color: #00af00\">3</span>)    │             <span style=\"color: #00af00; text-decoration-color: #00af00\">0</span> │\n",
       "├─────────────────────────────────┼────────────────────────┼───────────────┤\n",
       "│ conv2d (<span style=\"color: #0087ff; text-decoration-color: #0087ff\">Conv2D</span>)                 │ (<span style=\"color: #00d7ff; text-decoration-color: #00d7ff\">None</span>, <span style=\"color: #00af00; text-decoration-color: #00af00\">224</span>, <span style=\"color: #00af00; text-decoration-color: #00af00\">224</span>, <span style=\"color: #00af00; text-decoration-color: #00af00\">16</span>)   │           <span style=\"color: #00af00; text-decoration-color: #00af00\">448</span> │\n",
       "├─────────────────────────────────┼────────────────────────┼───────────────┤\n",
       "│ conv2d_1 (<span style=\"color: #0087ff; text-decoration-color: #0087ff\">Conv2D</span>)               │ (<span style=\"color: #00d7ff; text-decoration-color: #00d7ff\">None</span>, <span style=\"color: #00af00; text-decoration-color: #00af00\">224</span>, <span style=\"color: #00af00; text-decoration-color: #00af00\">224</span>, <span style=\"color: #00af00; text-decoration-color: #00af00\">32</span>)   │         <span style=\"color: #00af00; text-decoration-color: #00af00\">4,640</span> │\n",
       "├─────────────────────────────────┼────────────────────────┼───────────────┤\n",
       "│ flatten (<span style=\"color: #0087ff; text-decoration-color: #0087ff\">Flatten</span>)               │ (<span style=\"color: #00d7ff; text-decoration-color: #00d7ff\">None</span>, <span style=\"color: #00af00; text-decoration-color: #00af00\">1605632</span>)        │             <span style=\"color: #00af00; text-decoration-color: #00af00\">0</span> │\n",
       "├─────────────────────────────────┼────────────────────────┼───────────────┤\n",
       "│ latent_features (<span style=\"color: #0087ff; text-decoration-color: #0087ff\">Dense</span>)         │ (<span style=\"color: #00d7ff; text-decoration-color: #00d7ff\">None</span>, <span style=\"color: #00af00; text-decoration-color: #00af00\">64</span>)             │   <span style=\"color: #00af00; text-decoration-color: #00af00\">102,760,512</span> │\n",
       "├─────────────────────────────────┼────────────────────────┼───────────────┤\n",
       "│ dense (<span style=\"color: #0087ff; text-decoration-color: #0087ff\">Dense</span>)                   │ (<span style=\"color: #00d7ff; text-decoration-color: #00d7ff\">None</span>, <span style=\"color: #00af00; text-decoration-color: #00af00\">150528</span>)         │     <span style=\"color: #00af00; text-decoration-color: #00af00\">9,784,320</span> │\n",
       "├─────────────────────────────────┼────────────────────────┼───────────────┤\n",
       "│ reshape (<span style=\"color: #0087ff; text-decoration-color: #0087ff\">Reshape</span>)               │ (<span style=\"color: #00d7ff; text-decoration-color: #00d7ff\">None</span>, <span style=\"color: #00af00; text-decoration-color: #00af00\">224</span>, <span style=\"color: #00af00; text-decoration-color: #00af00\">224</span>, <span style=\"color: #00af00; text-decoration-color: #00af00\">3</span>)    │             <span style=\"color: #00af00; text-decoration-color: #00af00\">0</span> │\n",
       "└─────────────────────────────────┴────────────────────────┴───────────────┘\n",
       "</pre>\n"
      ],
      "text/plain": [
       "┏━━━━━━━━━━━━━━━━━━━━━━━━━━━━━━━━━┳━━━━━━━━━━━━━━━━━━━━━━━━┳━━━━━━━━━━━━━━━┓\n",
       "┃\u001b[1m \u001b[0m\u001b[1mLayer (type)                   \u001b[0m\u001b[1m \u001b[0m┃\u001b[1m \u001b[0m\u001b[1mOutput Shape          \u001b[0m\u001b[1m \u001b[0m┃\u001b[1m \u001b[0m\u001b[1m      Param #\u001b[0m\u001b[1m \u001b[0m┃\n",
       "┡━━━━━━━━━━━━━━━━━━━━━━━━━━━━━━━━━╇━━━━━━━━━━━━━━━━━━━━━━━━╇━━━━━━━━━━━━━━━┩\n",
       "│ input_layer (\u001b[38;5;33mInputLayer\u001b[0m)        │ (\u001b[38;5;45mNone\u001b[0m, \u001b[38;5;34m224\u001b[0m, \u001b[38;5;34m224\u001b[0m, \u001b[38;5;34m3\u001b[0m)    │             \u001b[38;5;34m0\u001b[0m │\n",
       "├─────────────────────────────────┼────────────────────────┼───────────────┤\n",
       "│ conv2d (\u001b[38;5;33mConv2D\u001b[0m)                 │ (\u001b[38;5;45mNone\u001b[0m, \u001b[38;5;34m224\u001b[0m, \u001b[38;5;34m224\u001b[0m, \u001b[38;5;34m16\u001b[0m)   │           \u001b[38;5;34m448\u001b[0m │\n",
       "├─────────────────────────────────┼────────────────────────┼───────────────┤\n",
       "│ conv2d_1 (\u001b[38;5;33mConv2D\u001b[0m)               │ (\u001b[38;5;45mNone\u001b[0m, \u001b[38;5;34m224\u001b[0m, \u001b[38;5;34m224\u001b[0m, \u001b[38;5;34m32\u001b[0m)   │         \u001b[38;5;34m4,640\u001b[0m │\n",
       "├─────────────────────────────────┼────────────────────────┼───────────────┤\n",
       "│ flatten (\u001b[38;5;33mFlatten\u001b[0m)               │ (\u001b[38;5;45mNone\u001b[0m, \u001b[38;5;34m1605632\u001b[0m)        │             \u001b[38;5;34m0\u001b[0m │\n",
       "├─────────────────────────────────┼────────────────────────┼───────────────┤\n",
       "│ latent_features (\u001b[38;5;33mDense\u001b[0m)         │ (\u001b[38;5;45mNone\u001b[0m, \u001b[38;5;34m64\u001b[0m)             │   \u001b[38;5;34m102,760,512\u001b[0m │\n",
       "├─────────────────────────────────┼────────────────────────┼───────────────┤\n",
       "│ dense (\u001b[38;5;33mDense\u001b[0m)                   │ (\u001b[38;5;45mNone\u001b[0m, \u001b[38;5;34m150528\u001b[0m)         │     \u001b[38;5;34m9,784,320\u001b[0m │\n",
       "├─────────────────────────────────┼────────────────────────┼───────────────┤\n",
       "│ reshape (\u001b[38;5;33mReshape\u001b[0m)               │ (\u001b[38;5;45mNone\u001b[0m, \u001b[38;5;34m224\u001b[0m, \u001b[38;5;34m224\u001b[0m, \u001b[38;5;34m3\u001b[0m)    │             \u001b[38;5;34m0\u001b[0m │\n",
       "└─────────────────────────────────┴────────────────────────┴───────────────┘\n"
      ]
     },
     "metadata": {},
     "output_type": "display_data"
    },
    {
     "data": {
      "text/html": [
       "<pre style=\"white-space:pre;overflow-x:auto;line-height:normal;font-family:Menlo,'DejaVu Sans Mono',consolas,'Courier New',monospace\"><span style=\"font-weight: bold\"> Total params: </span><span style=\"color: #00af00; text-decoration-color: #00af00\">112,549,920</span> (429.34 MB)\n",
       "</pre>\n"
      ],
      "text/plain": [
       "\u001b[1m Total params: \u001b[0m\u001b[38;5;34m112,549,920\u001b[0m (429.34 MB)\n"
      ]
     },
     "metadata": {},
     "output_type": "display_data"
    },
    {
     "data": {
      "text/html": [
       "<pre style=\"white-space:pre;overflow-x:auto;line-height:normal;font-family:Menlo,'DejaVu Sans Mono',consolas,'Courier New',monospace\"><span style=\"font-weight: bold\"> Trainable params: </span><span style=\"color: #00af00; text-decoration-color: #00af00\">112,549,920</span> (429.34 MB)\n",
       "</pre>\n"
      ],
      "text/plain": [
       "\u001b[1m Trainable params: \u001b[0m\u001b[38;5;34m112,549,920\u001b[0m (429.34 MB)\n"
      ]
     },
     "metadata": {},
     "output_type": "display_data"
    },
    {
     "data": {
      "text/html": [
       "<pre style=\"white-space:pre;overflow-x:auto;line-height:normal;font-family:Menlo,'DejaVu Sans Mono',consolas,'Courier New',monospace\"><span style=\"font-weight: bold\"> Non-trainable params: </span><span style=\"color: #00af00; text-decoration-color: #00af00\">0</span> (0.00 B)\n",
       "</pre>\n"
      ],
      "text/plain": [
       "\u001b[1m Non-trainable params: \u001b[0m\u001b[38;5;34m0\u001b[0m (0.00 B)\n"
      ]
     },
     "metadata": {},
     "output_type": "display_data"
    },
    {
     "name": "stdout",
     "output_type": "stream",
     "text": [
      "Training the autoencoder...\n",
      "Epoch 1/10\n",
      "\u001b[1m34/34\u001b[0m \u001b[32m━━━━━━━━━━━━━━━━━━━━\u001b[0m\u001b[37m\u001b[0m \u001b[1m23s\u001b[0m 636ms/step - loss: 0.1492\n",
      "Epoch 2/10\n",
      "\u001b[1m34/34\u001b[0m \u001b[32m━━━━━━━━━━━━━━━━━━━━\u001b[0m\u001b[37m\u001b[0m \u001b[1m23s\u001b[0m 667ms/step - loss: 0.0975\n",
      "Epoch 3/10\n",
      "\u001b[1m34/34\u001b[0m \u001b[32m━━━━━━━━━━━━━━━━━━━━\u001b[0m\u001b[37m\u001b[0m \u001b[1m23s\u001b[0m 673ms/step - loss: 0.0863\n",
      "Epoch 4/10\n",
      "\u001b[1m34/34\u001b[0m \u001b[32m━━━━━━━━━━━━━━━━━━━━\u001b[0m\u001b[37m\u001b[0m \u001b[1m22s\u001b[0m 657ms/step - loss: 0.0716\n",
      "Epoch 5/10\n",
      "\u001b[1m34/34\u001b[0m \u001b[32m━━━━━━━━━━━━━━━━━━━━\u001b[0m\u001b[37m\u001b[0m \u001b[1m23s\u001b[0m 664ms/step - loss: 0.0612\n",
      "Epoch 6/10\n",
      "\u001b[1m34/34\u001b[0m \u001b[32m━━━━━━━━━━━━━━━━━━━━\u001b[0m\u001b[37m\u001b[0m \u001b[1m25s\u001b[0m 731ms/step - loss: 0.0572\n",
      "Epoch 7/10\n",
      "\u001b[1m34/34\u001b[0m \u001b[32m━━━━━━━━━━━━━━━━━━━━\u001b[0m\u001b[37m\u001b[0m \u001b[1m23s\u001b[0m 676ms/step - loss: 0.0560\n",
      "Epoch 8/10\n",
      "\u001b[1m34/34\u001b[0m \u001b[32m━━━━━━━━━━━━━━━━━━━━\u001b[0m\u001b[37m\u001b[0m \u001b[1m23s\u001b[0m 676ms/step - loss: 0.0539\n",
      "Epoch 9/10\n",
      "\u001b[1m34/34\u001b[0m \u001b[32m━━━━━━━━━━━━━━━━━━━━\u001b[0m\u001b[37m\u001b[0m \u001b[1m23s\u001b[0m 681ms/step - loss: 0.0538\n",
      "Epoch 10/10\n",
      "\u001b[1m34/34\u001b[0m \u001b[32m━━━━━━━━━━━━━━━━━━━━\u001b[0m\u001b[37m\u001b[0m \u001b[1m23s\u001b[0m 683ms/step - loss: 0.0534\n",
      "Extracting latent features...\n",
      "\u001b[1m34/34\u001b[0m \u001b[32m━━━━━━━━━━━━━━━━━━━━\u001b[0m\u001b[37m\u001b[0m \u001b[1m5s\u001b[0m 147ms/step\n",
      "Calculating brightness...\n",
      "Clustering for dominant colors...\n"
     ]
    },
    {
     "name": "stderr",
     "output_type": "stream",
     "text": [
      "Mapping dominant colors to frames: 100%|██████████| 1088/1088 [01:30<00:00, 11.96it/s]\n"
     ]
    },
    {
     "name": "stdout",
     "output_type": "stream",
     "text": [
      "Reducing dimensions of latent features...\n",
      "Combining features into a DataFrame...\n",
      "      timestamp  brightness    color1    color2    color3   feature1  \\\n",
      "0           0.0    0.255209  0.197018  0.156835  0.112140  -4.160371   \n",
      "1           1.0    0.237458  0.450994  0.376861  0.291577  -9.755545   \n",
      "2           2.0    0.236062  0.448760  0.359054  0.293935 -10.310310   \n",
      "3           3.0    0.202793  0.493187  0.392524  0.315901  -9.517145   \n",
      "4           4.0    0.240167  0.504492  0.383613  0.298241  -5.882386   \n",
      "...         ...         ...       ...       ...       ...        ...   \n",
      "1083     1083.0    0.195149  0.438187  0.346028  0.286445 -12.147798   \n",
      "1084     1084.0    0.192127  0.448377  0.331727  0.280010 -12.665433   \n",
      "1085     1085.0    0.208806  0.478030  0.368756  0.305702 -10.774250   \n",
      "1086     1086.0    0.209984  0.467856  0.379547  0.310829 -10.651777   \n",
      "1087     1087.0    0.209733  0.464000  0.381375  0.313372 -10.561563   \n",
      "\n",
      "       feature2  \n",
      "0      4.124103  \n",
      "1    -10.165192  \n",
      "2    -10.917072  \n",
      "3      5.703164  \n",
      "4      5.679937  \n",
      "...         ...  \n",
      "1083  -8.088648  \n",
      "1084  -8.550285  \n",
      "1085  -9.031127  \n",
      "1086  -8.785174  \n",
      "1087  -8.998196  \n",
      "\n",
      "[1088 rows x 7 columns]\n"
     ]
    }
   ],
   "source": [
    "# Upload and analyze your .mp4 video file\n",
    "video_path = \"Test.mp4\"\n",
    "df_results = analyze_video(video_path)\n",
    "\n",
    "# Display the DataFrame\n",
    "print(df_results)"
   ]
  },
  {
   "cell_type": "code",
   "execution_count": 7,
   "metadata": {},
   "outputs": [],
   "source": [
    "from sklearn.preprocessing import StandardScaler\n",
    "\n",
    "# List of features to scale\n",
    "features_to_scale = ['brightness', 'color1', 'color2', 'color3', 'feature1', 'feature2']\n",
    "\n",
    "# Standardize the features\n",
    "scaler = StandardScaler()\n",
    "df_results[features_to_scale] = scaler.fit_transform(df_results[features_to_scale])"
   ]
  },
  {
   "cell_type": "code",
   "execution_count": 8,
   "metadata": {},
   "outputs": [],
   "source": [
    "from sklearn.preprocessing import PolynomialFeatures\n",
    "\n",
    "# Create interaction terms\n",
    "poly = PolynomialFeatures(degree=2, interaction_only=True, include_bias=False)\n",
    "interaction_features = poly.fit_transform(df_results[features_to_scale])\n",
    "\n",
    "# Convert to DataFrame\n",
    "interaction_df = pd.DataFrame(interaction_features, columns=poly.get_feature_names_out(features_to_scale))\n",
    "\n",
    "# Add to original DataFrame\n",
    "df_results = pd.concat([df_results, interaction_df], axis=1)"
   ]
  },
  {
   "cell_type": "code",
   "execution_count": 9,
   "metadata": {},
   "outputs": [
    {
     "name": "stdout",
     "output_type": "stream",
     "text": [
      "                     timestamp  brightness    color1    color2    color3  \\\n",
      "timestamp             1.000000   -0.129458 -0.057525 -0.060351 -0.063547   \n",
      "brightness           -0.129458    1.000000  0.150482  0.155723  0.161081   \n",
      "color1               -0.057525    0.150482  1.000000  0.996569  0.975294   \n",
      "color2               -0.060351    0.155723  0.996569  1.000000  0.990161   \n",
      "color3               -0.063547    0.161081  0.975294  0.990161  1.000000   \n",
      "feature1             -0.084031    0.940707  0.114663  0.118842  0.123047   \n",
      "feature2             -0.051372   -0.142381 -0.033447 -0.034023 -0.034598   \n",
      "brightness           -0.129458    1.000000  0.150482  0.155723  0.161081   \n",
      "color1               -0.057525    0.150482  1.000000  0.996569  0.975294   \n",
      "color2               -0.060351    0.155723  0.996569  1.000000  0.990161   \n",
      "color3               -0.063547    0.161081  0.975294  0.990161  1.000000   \n",
      "feature1             -0.084031    0.940707  0.114663  0.118842  0.123047   \n",
      "feature2             -0.051372   -0.142381 -0.033447 -0.034023 -0.034598   \n",
      "brightness color1    -0.052091    0.144056  0.994737  0.987156  0.959881   \n",
      "brightness color2    -0.054418    0.149169  0.994835  0.993131  0.975684   \n",
      "brightness color3    -0.057497    0.154437  0.983292  0.991766  0.991809   \n",
      "brightness feature1  -0.151755    0.667300  0.261618  0.268790  0.273688   \n",
      "brightness feature2   0.133637   -0.262024 -0.153448 -0.157508 -0.158998   \n",
      "color1 color2        -0.048096    0.136193  0.983675  0.965937  0.921515   \n",
      "color1 color3        -0.049989    0.140327  0.990450  0.976466  0.938232   \n",
      "color1 feature1      -0.052432    0.141646  0.995047  0.987593  0.960495   \n",
      "color1 feature2       0.051595   -0.149820 -0.982070 -0.971711 -0.940665   \n",
      "color2 color3        -0.051839    0.144255  0.995226  0.985148  0.953384   \n",
      "color2 feature1      -0.054789    0.146633  0.995085  0.993542  0.976324   \n",
      "color2 feature2       0.053565   -0.155399 -0.981913 -0.976674 -0.954275   \n",
      "color3 feature1      -0.057875    0.151695  0.983274  0.991953  0.992305   \n",
      "color3 feature2       0.056485   -0.160908 -0.975009 -0.978839 -0.972079   \n",
      "feature1 feature2     0.103480   -0.363586 -0.113083 -0.116245 -0.117576   \n",
      "\n",
      "                         feature1      feature2  brightness    color1  \\\n",
      "timestamp           -8.403108e-02 -5.137212e-02   -0.129458 -0.057525   \n",
      "brightness           9.407066e-01 -1.423809e-01    1.000000  0.150482   \n",
      "color1               1.146633e-01 -3.344744e-02    0.150482  1.000000   \n",
      "color2               1.188416e-01 -3.402282e-02    0.155723  0.996569   \n",
      "color3               1.230473e-01 -3.459804e-02    0.161081  0.975294   \n",
      "feature1             1.000000e+00 -1.020312e-08    0.940707  0.114663   \n",
      "feature2            -1.020312e-08  1.000000e+00   -0.142381 -0.033447   \n",
      "brightness           9.407066e-01 -1.423809e-01    1.000000  0.150482   \n",
      "color1               1.146633e-01 -3.344744e-02    0.150482  1.000000   \n",
      "color2               1.188416e-01 -3.402282e-02    0.155723  0.996569   \n",
      "color3               1.230473e-01 -3.459804e-02    0.161081  0.975294   \n",
      "feature1             1.000000e+00 -1.020312e-08    0.940707  0.114663   \n",
      "feature2            -1.020312e-08  1.000000e+00   -0.142381 -0.033447   \n",
      "brightness color1    1.075804e-01 -3.647086e-02    0.144056  0.994737   \n",
      "brightness color2    1.113892e-01 -3.772705e-02    0.149169  0.994835   \n",
      "brightness color3    1.152886e-01 -3.871183e-02    0.154437  0.983292   \n",
      "brightness feature1  5.700638e-01 -2.239732e-01    0.667300  0.261618   \n",
      "brightness feature2 -3.875026e-01 -4.524684e-01   -0.262024 -0.153448   \n",
      "color1 color2        1.034847e-01 -3.263479e-02    0.136193  0.983675   \n",
      "color1 color3        1.066468e-01 -3.347599e-02    0.140327  0.990450   \n",
      "color1 feature1      1.038591e-01 -3.771574e-02    0.141646  0.995047   \n",
      "color1 feature2     -1.176731e-01  1.230281e-03   -0.149820 -0.982070   \n",
      "color2 color3        1.096553e-01 -3.425318e-02    0.144255  0.995226   \n",
      "color2 feature1      1.074729e-01 -3.906435e-02    0.146633  0.995085   \n",
      "color2 feature2     -1.222331e-01  4.827493e-04   -0.155399 -0.981913   \n",
      "color3 feature1      1.110939e-01 -4.014427e-02    0.151695  0.983274   \n",
      "color3 feature2     -1.268155e-01 -1.490817e-03   -0.160908 -0.975009   \n",
      "feature1 feature2   -5.078287e-01 -5.338257e-01   -0.363586 -0.113083   \n",
      "\n",
      "                       color2  ...  color1 color2  color1 color3  \\\n",
      "timestamp           -0.060351  ...      -0.048096      -0.049989   \n",
      "brightness           0.155723  ...       0.136193       0.140327   \n",
      "color1               0.996569  ...       0.983675       0.990450   \n",
      "color2               1.000000  ...       0.965937       0.976466   \n",
      "color3               0.990161  ...       0.921515       0.938232   \n",
      "feature1             0.118842  ...       0.103485       0.106647   \n",
      "feature2            -0.034023  ...      -0.032635      -0.033476   \n",
      "brightness           0.155723  ...       0.136193       0.140327   \n",
      "color1               0.996569  ...       0.983675       0.990450   \n",
      "color2               1.000000  ...       0.965937       0.976466   \n",
      "color3               0.990161  ...       0.921515       0.938232   \n",
      "feature1             0.118842  ...       0.103485       0.106647   \n",
      "feature2            -0.034023  ...      -0.032635      -0.033476   \n",
      "brightness color1    0.987156  ...       0.990979       0.995789   \n",
      "brightness color2    0.993131  ...       0.979178       0.987270   \n",
      "brightness color3    0.991766  ...       0.946996       0.960681   \n",
      "brightness feature1  0.268790  ...       0.233908       0.239618   \n",
      "brightness feature2 -0.157508  ...      -0.134312      -0.137152   \n",
      "color1 color2        0.965937  ...       1.000000       0.998926   \n",
      "color1 color3        0.976466  ...       0.998926       1.000000   \n",
      "color1 feature1      0.987593  ...       0.990884       0.995755   \n",
      "color1 feature2     -0.971711  ...      -0.987629      -0.991100   \n",
      "color2 color3        0.985148  ...       0.995568       0.998856   \n",
      "color2 feature1      0.993542  ...       0.978940       0.987109   \n",
      "color2 feature2     -0.976674  ...      -0.977558      -0.983927   \n",
      "color3 feature1      0.991953  ...       0.946398       0.960182   \n",
      "color3 feature2     -0.978839  ...      -0.952413      -0.963824   \n",
      "feature1 feature2   -0.116245  ...      -0.099163      -0.101326   \n",
      "\n",
      "                     color1 feature1  color1 feature2  color2 color3  \\\n",
      "timestamp                  -0.052432         0.051595      -0.051839   \n",
      "brightness                  0.141646        -0.149820       0.144255   \n",
      "color1                      0.995047        -0.982070       0.995226   \n",
      "color2                      0.987593        -0.971711       0.985148   \n",
      "color3                      0.960495        -0.940665       0.953384   \n",
      "feature1                    0.103859        -0.117673       0.109655   \n",
      "feature2                   -0.037716         0.001230      -0.034253   \n",
      "brightness                  0.141646        -0.149820       0.144255   \n",
      "color1                      0.995047        -0.982070       0.995226   \n",
      "color2                      0.987593        -0.971711       0.985148   \n",
      "color3                      0.960495        -0.940665       0.953384   \n",
      "feature1                    0.103859        -0.117673       0.109655   \n",
      "feature2                   -0.037716         0.001230      -0.034253   \n",
      "brightness color1           0.999982        -0.995731       0.998497   \n",
      "brightness color2           0.997491        -0.991486       0.993383   \n",
      "brightness color3           0.981025        -0.971659       0.972622   \n",
      "brightness feature1         0.249683        -0.241489       0.244974   \n",
      "brightness feature2        -0.138890         0.151852      -0.139803   \n",
      "color1 color2               0.990884        -0.987629       0.995568   \n",
      "color1 color3               0.995755        -0.991100       0.998856   \n",
      "color1 feature1             1.000000        -0.995349       0.998527   \n",
      "color1 feature2            -0.995349         1.000000      -0.992414   \n",
      "color2 color3               0.998527        -0.992414       1.000000   \n",
      "color2 feature1             0.997402        -0.990948       0.993303   \n",
      "color2 feature2            -0.993837         0.997896      -0.988245   \n",
      "color3 feature1             0.980633        -0.970784       0.972228   \n",
      "color3 feature2            -0.982966         0.984524      -0.973384   \n",
      "feature1 feature2          -0.100092         0.121084      -0.103350   \n",
      "\n",
      "                     color2 feature1  color2 feature2  color3 feature1  \\\n",
      "timestamp                  -0.054789         0.053565        -0.057875   \n",
      "brightness                  0.146633        -0.155399         0.151695   \n",
      "color1                      0.995085        -0.981913         0.983274   \n",
      "color2                      0.993542        -0.976674         0.991953   \n",
      "color3                      0.976324        -0.954275         0.992305   \n",
      "feature1                    0.107473        -0.122233         0.111094   \n",
      "feature2                   -0.039064         0.000483        -0.040144   \n",
      "brightness                  0.146633        -0.155399         0.151695   \n",
      "color1                      0.995085        -0.981913         0.983274   \n",
      "color2                      0.993542        -0.976674         0.991953   \n",
      "color3                      0.976324        -0.954275         0.992305   \n",
      "feature1                    0.107473        -0.122233         0.111094   \n",
      "feature2                   -0.039064         0.000483        -0.040144   \n",
      "brightness color1           0.997298        -0.994184         0.980376   \n",
      "brightness color2           0.999979        -0.994530         0.991898   \n",
      "brightness color3           0.992364        -0.982482         0.999975   \n",
      "brightness feature1         0.256461        -0.247408         0.261750   \n",
      "brightness feature2        -0.141796         0.155141        -0.143115   \n",
      "color1 color2               0.978940        -0.977558         0.946398   \n",
      "color1 color3               0.987109        -0.983927         0.960182   \n",
      "color1 feature1             0.997402        -0.993837         0.980633   \n",
      "color1 feature2            -0.990948         0.997896        -0.970784   \n",
      "color2 color3               0.993303        -0.988245         0.972228   \n",
      "color2 feature1             1.000000        -0.994043         0.992119   \n",
      "color2 feature2            -0.994043         1.000000        -0.981688   \n",
      "color3 feature1             0.992119        -0.981688         1.000000   \n",
      "color3 feature2            -0.991117         0.993674        -0.992846   \n",
      "feature1 feature2          -0.102219         0.124299        -0.103173   \n",
      "\n",
      "                     color3 feature2  feature1 feature2  \n",
      "timestamp                   0.056485           0.103480  \n",
      "brightness                 -0.160908          -0.363586  \n",
      "color1                     -0.975009          -0.113083  \n",
      "color2                     -0.978839          -0.116245  \n",
      "color3                     -0.972079          -0.117576  \n",
      "feature1                   -0.126816          -0.507829  \n",
      "feature2                   -0.001491          -0.533826  \n",
      "brightness                 -0.160908          -0.363586  \n",
      "color1                     -0.975009          -0.113083  \n",
      "color2                     -0.978839          -0.116245  \n",
      "color3                     -0.972079          -0.117576  \n",
      "feature1                   -0.126816          -0.507829  \n",
      "feature2                   -0.001491          -0.533826  \n",
      "brightness color1          -0.983201          -0.102801  \n",
      "brightness color2          -0.991454          -0.105062  \n",
      "brightness color3          -0.993430          -0.106259  \n",
      "brightness feature1        -0.252076          -0.484800  \n",
      "brightness feature2         0.157745           0.951465  \n",
      "color1 color2              -0.952413          -0.099163  \n",
      "color1 color3              -0.963824          -0.101326  \n",
      "color1 feature1            -0.982966          -0.100092  \n",
      "color1 feature2             0.984524           0.121084  \n",
      "color2 color3              -0.973384          -0.103350  \n",
      "color2 feature1            -0.991117          -0.102219  \n",
      "color2 feature2             0.993674           0.124299  \n",
      "color3 feature1            -0.992846          -0.103173  \n",
      "color3 feature2             1.000000           0.127128  \n",
      "feature1 feature2           0.127128           1.000000  \n",
      "\n",
      "[28 rows x 28 columns]\n"
     ]
    }
   ],
   "source": [
    "print(df_results.corr())"
   ]
  },
  {
   "cell_type": "code",
   "execution_count": 12,
   "metadata": {},
   "outputs": [],
   "source": [
    "df_results.to_csv('C:/Users/nosso/OneDrive/Desktop/CNN.csv')"
   ]
  }
 ],
 "metadata": {
  "colab": {
   "collapsed_sections": [
    "gj6GSchoY9fP"
   ],
   "provenance": []
  },
  "kernelspec": {
   "display_name": "base",
   "language": "python",
   "name": "python3"
  },
  "language_info": {
   "codemirror_mode": {
    "name": "ipython",
    "version": 3
   },
   "file_extension": ".py",
   "mimetype": "text/x-python",
   "name": "python",
   "nbconvert_exporter": "python",
   "pygments_lexer": "ipython3",
   "version": "3.10.14"
  }
 },
 "nbformat": 4,
 "nbformat_minor": 0
}
