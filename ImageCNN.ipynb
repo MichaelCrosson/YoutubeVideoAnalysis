{
 "cells": [
  {
   "cell_type": "markdown",
   "metadata": {
    "id": "gj6GSchoY9fP"
   },
   "source": [
    "## Loading"
   ]
  },
  {
   "cell_type": "code",
   "execution_count": 22,
   "metadata": {
    "colab": {
     "base_uri": "https://localhost:8080/"
    },
    "id": "u2thCV_CTH7d",
    "outputId": "260074e6-3910-428d-a6ae-69964d626314"
   },
   "outputs": [],
   "source": [
    "import cv2\n",
    "import numpy as np\n",
    "import pandas as pd\n",
    "from moviepy.editor import VideoFileClip\n",
    "from tqdm import tqdm\n",
    "import tensorflow as tf\n",
    "from tensorflow.keras.layers import Conv2D, Conv2DTranspose, Dense, Flatten, Reshape, Input, MaxPooling2D, Dropout\n",
    "from tensorflow.keras.models import Model\n",
    "from sklearn.decomposition import PCA"
   ]
  },
  {
   "cell_type": "markdown",
   "metadata": {
    "id": "znUALn4sZCjP"
   },
   "source": [
    "## Main"
   ]
  },
  {
   "cell_type": "code",
   "execution_count": 23,
   "metadata": {
    "id": "3rk2SME6TMj5"
   },
   "outputs": [],
   "source": [
    "# Helper function to extract frames from video\n",
    "def extract_frames(video_path, frame_rate=1):\n",
    "    clip = VideoFileClip(video_path)\n",
    "    fps = clip.fps\n",
    "    frame_list = []\n",
    "    timestamps = []\n",
    "\n",
    "    for i, frame in enumerate(clip.iter_frames()):\n",
    "        if i % int(fps / frame_rate) == 0:\n",
    "            frame_list.append(frame)\n",
    "            timestamps.append(i / fps)\n",
    "\n",
    "    return frame_list, timestamps"
   ]
  },
  {
   "cell_type": "code",
   "execution_count": null,
   "metadata": {
    "id": "eRd48_dXUShJ"
   },
   "outputs": [],
   "source": [
    "def process_frames_to_dataframe(frames, timestamps):\n",
    "    def build_autoencoder(input_shape=(224, 224, 3)):\n",
    "        input_layer = Input(shape=input_shape)\n",
    "\n",
    "        # Encoder\n",
    "        x = Conv2D(16, (3, 3), activation='relu', padding='same')(input_layer)\n",
    "        x = MaxPooling2D((2, 2))(x)\n",
    "        x = Conv2D(32, (3, 3), activation='relu', padding='same')(x)\n",
    "        x = MaxPooling2D((2, 2))(x)\n",
    "        x = Flatten()(x) \n",
    "        latent_space = Dense(32, activation='relu', name='latent_features')(x)\n",
    "       \n",
    "        # Decoder\n",
    "        x = Dense(224 * 224 * 3, activation='relu')(latent_space)\n",
    "        x = Dropout(0.3)(x)\n",
    "        decoded_output = Reshape((224, 224, 3))(x)\n",
    "\n",
    "        # Models\n",
    "        autoencoder = Model(inputs=input_layer, outputs=decoded_output)\n",
    "        encoder = Model(inputs=input_layer, outputs=latent_space)\n",
    "\n",
    "        autoencoder.compile(optimizer='adam', loss='mse')\n",
    "        return autoencoder, encoder\n",
    "\n",
    "    def manual_kmeans(data, n_clusters, max_iter=10, tol=1e-4):\n",
    "        # Randomly initialize centroids using a small sample of the data\n",
    "        np.random.seed(0)\n",
    "        centroids = data[np.random.choice(data.shape[0], n_clusters, replace=False)]\n",
    "\n",
    "        for iteration in range(max_iter):\n",
    "            # Compute distances and assign clusters (vectorized)\n",
    "            distances = np.linalg.norm(data[:, None, :] - centroids[None, :, :], axis=2)\n",
    "            labels = np.argmin(distances, axis=1)\n",
    "\n",
    "            # Compute new centroids\n",
    "            new_centroids = np.array([\n",
    "                data[labels == cluster].mean(axis=0) if (labels == cluster).any() else centroids[cluster]\n",
    "                for cluster in range(n_clusters)\n",
    "            ])\n",
    "\n",
    "            # Check for convergence\n",
    "            if np.all(np.linalg.norm(new_centroids - centroids, axis=1) < tol):\n",
    "                break\n",
    "\n",
    "            centroids = new_centroids\n",
    "\n",
    "        return centroids, labels\n",
    "\n",
    "    print(\"Resizing frames...\")\n",
    "    resized_frames = np.array([cv2.resize(frame, (224, 224)) for frame in frames])\n",
    "    resized_frames = resized_frames / 255.0\n",
    "\n",
    "    autoencoder, encoder = build_autoencoder()\n",
    "    autoencoder.summary()\n",
    "\n",
    "    frames = np.array(resized_frames)\n",
    "\n",
    "    print(\"Training the autoencoder...\")\n",
    "    autoencoder.fit(frames, frames, epochs=100, batch_size=32, verbose=1)\n",
    "\n",
    "    print(\"Extracting latent features...\")\n",
    "    latent_features = encoder.predict(frames)\n",
    "\n",
    "    print(\"Calculating brightness...\")\n",
    "    brightness = np.array([\n",
    "        frame.sum() / (frame.shape[0] * frame.shape[1] * frame.shape[2]) for frame in frames\n",
    "    ])\n",
    "\n",
    "    print(\"Clustering for dominant colors...\")\n",
    "    reshaped_frames = frames.reshape(-1, 3)  # Flatten frames to pixel-level colors\n",
    "\n",
    "    # Sample a subset of pixels for clustering\n",
    "    sample_indices = np.random.choice(reshaped_frames.shape[0], size=10000, replace=False)\n",
    "    sampled_pixels = reshaped_frames[sample_indices]\n",
    "\n",
    "    # Perform manual K-Means clustering on the sampled pixels\n",
    "    dominant_colors, _ = manual_kmeans(sampled_pixels, n_clusters=3)\n",
    "\n",
    "    # Map dominant colors back to frames\n",
    "    color_features = []\n",
    "    for frame_pixels in tqdm(frames, desc=\"Mapping dominant colors to frames\"):\n",
    "        frame_pixels = frame_pixels.reshape(-1, 3)\n",
    "        distances = np.linalg.norm(frame_pixels[:, None, :] - dominant_colors[None, :, :], axis=2)\n",
    "        labels = np.argmin(distances, axis=1)\n",
    "\n",
    "        # Calculate average colors for the frame\n",
    "        color_sums = np.zeros((3, 3))\n",
    "        count = np.zeros(3)\n",
    "        for label, pixel in zip(labels, frame_pixels):\n",
    "            color_sums[label] += pixel\n",
    "            count[label] += 1\n",
    "\n",
    "        avg_colors = np.divide(color_sums, count[:, None], where=(count[:, None] != 0))\n",
    "        color_features.append(avg_colors.mean(axis=0))  # Combine per-cluster colors\n",
    "\n",
    "    print(\"Reducing dimensions of latent features...\")\n",
    "    pca = PCA(n_components=2)\n",
    "    reduced_features = pca.fit_transform(latent_features)\n",
    "\n",
    "    print(\"Combining features into a DataFrame...\")\n",
    "    data = {\n",
    "        \"timestamp\": timestamps,\n",
    "        \"brightness\": brightness,\n",
    "        \"color1\": [c[0] for c in color_features],\n",
    "        \"color2\": [c[1] for c in color_features],\n",
    "        \"color3\": [c[2] for c in color_features],\n",
    "        \"feature1\": reduced_features[:, 0],\n",
    "        \"feature2\": reduced_features[:, 1],\n",
    "    }\n",
    "    feature_df = pd.DataFrame(data)\n",
    "\n",
    "    return feature_df\n"
   ]
  },
  {
   "cell_type": "code",
   "execution_count": 25,
   "metadata": {
    "id": "6Y6nCpzyTdWP"
   },
   "outputs": [],
   "source": [
    "# Main function to process video and return a DataFrame\n",
    "def analyze_video(video_path):\n",
    "    print(\"Extracting frames from video...\")\n",
    "    frames, timestamps = extract_frames(video_path, frame_rate=0.05)\n",
    "\n",
    "    print(\"Analyzing frames...\")\n",
    "    df = process_frames_to_dataframe(frames, timestamps)\n",
    "\n",
    "    return df"
   ]
  },
  {
   "cell_type": "markdown",
   "metadata": {
    "id": "j7k0umvVYCUo"
   },
   "source": [
    "## Run"
   ]
  },
  {
   "cell_type": "code",
   "execution_count": 43,
   "metadata": {
    "colab": {
     "base_uri": "https://localhost:8080/",
     "height": 557
    },
    "id": "88M5Kk_CTWy8",
    "outputId": "32d082f1-5adb-4d9c-88fb-f31af957a2b1"
   },
   "outputs": [
    {
     "name": "stdout",
     "output_type": "stream",
     "text": [
      "Extracting frames from video...\n",
      "Analyzing frames...\n",
      "Resizing frames...\n"
     ]
    },
    {
     "data": {
      "text/html": [
       "<pre style=\"white-space:pre;overflow-x:auto;line-height:normal;font-family:Menlo,'DejaVu Sans Mono',consolas,'Courier New',monospace\"><span style=\"font-weight: bold\">Model: \"functional_2\"</span>\n",
       "</pre>\n"
      ],
      "text/plain": [
       "\u001b[1mModel: \"functional_2\"\u001b[0m\n"
      ]
     },
     "metadata": {},
     "output_type": "display_data"
    },
    {
     "data": {
      "text/html": [
       "<pre style=\"white-space:pre;overflow-x:auto;line-height:normal;font-family:Menlo,'DejaVu Sans Mono',consolas,'Courier New',monospace\">┏━━━━━━━━━━━━━━━━━━━━━━━━━━━━━━━━━┳━━━━━━━━━━━━━━━━━━━━━━━━┳━━━━━━━━━━━━━━━┓\n",
       "┃<span style=\"font-weight: bold\"> Layer (type)                    </span>┃<span style=\"font-weight: bold\"> Output Shape           </span>┃<span style=\"font-weight: bold\">       Param # </span>┃\n",
       "┡━━━━━━━━━━━━━━━━━━━━━━━━━━━━━━━━━╇━━━━━━━━━━━━━━━━━━━━━━━━╇━━━━━━━━━━━━━━━┩\n",
       "│ input_layer_5 (<span style=\"color: #0087ff; text-decoration-color: #0087ff\">InputLayer</span>)      │ (<span style=\"color: #00d7ff; text-decoration-color: #00d7ff\">None</span>, <span style=\"color: #00af00; text-decoration-color: #00af00\">224</span>, <span style=\"color: #00af00; text-decoration-color: #00af00\">224</span>, <span style=\"color: #00af00; text-decoration-color: #00af00\">3</span>)    │             <span style=\"color: #00af00; text-decoration-color: #00af00\">0</span> │\n",
       "├─────────────────────────────────┼────────────────────────┼───────────────┤\n",
       "│ conv2d_10 (<span style=\"color: #0087ff; text-decoration-color: #0087ff\">Conv2D</span>)              │ (<span style=\"color: #00d7ff; text-decoration-color: #00d7ff\">None</span>, <span style=\"color: #00af00; text-decoration-color: #00af00\">224</span>, <span style=\"color: #00af00; text-decoration-color: #00af00\">224</span>, <span style=\"color: #00af00; text-decoration-color: #00af00\">16</span>)   │           <span style=\"color: #00af00; text-decoration-color: #00af00\">448</span> │\n",
       "├─────────────────────────────────┼────────────────────────┼───────────────┤\n",
       "│ max_pooling2d_10 (<span style=\"color: #0087ff; text-decoration-color: #0087ff\">MaxPooling2D</span>) │ (<span style=\"color: #00d7ff; text-decoration-color: #00d7ff\">None</span>, <span style=\"color: #00af00; text-decoration-color: #00af00\">112</span>, <span style=\"color: #00af00; text-decoration-color: #00af00\">112</span>, <span style=\"color: #00af00; text-decoration-color: #00af00\">16</span>)   │             <span style=\"color: #00af00; text-decoration-color: #00af00\">0</span> │\n",
       "├─────────────────────────────────┼────────────────────────┼───────────────┤\n",
       "│ conv2d_11 (<span style=\"color: #0087ff; text-decoration-color: #0087ff\">Conv2D</span>)              │ (<span style=\"color: #00d7ff; text-decoration-color: #00d7ff\">None</span>, <span style=\"color: #00af00; text-decoration-color: #00af00\">112</span>, <span style=\"color: #00af00; text-decoration-color: #00af00\">112</span>, <span style=\"color: #00af00; text-decoration-color: #00af00\">32</span>)   │         <span style=\"color: #00af00; text-decoration-color: #00af00\">4,640</span> │\n",
       "├─────────────────────────────────┼────────────────────────┼───────────────┤\n",
       "│ max_pooling2d_11 (<span style=\"color: #0087ff; text-decoration-color: #0087ff\">MaxPooling2D</span>) │ (<span style=\"color: #00d7ff; text-decoration-color: #00d7ff\">None</span>, <span style=\"color: #00af00; text-decoration-color: #00af00\">56</span>, <span style=\"color: #00af00; text-decoration-color: #00af00\">56</span>, <span style=\"color: #00af00; text-decoration-color: #00af00\">32</span>)     │             <span style=\"color: #00af00; text-decoration-color: #00af00\">0</span> │\n",
       "├─────────────────────────────────┼────────────────────────┼───────────────┤\n",
       "│ flatten_5 (<span style=\"color: #0087ff; text-decoration-color: #0087ff\">Flatten</span>)             │ (<span style=\"color: #00d7ff; text-decoration-color: #00d7ff\">None</span>, <span style=\"color: #00af00; text-decoration-color: #00af00\">100352</span>)         │             <span style=\"color: #00af00; text-decoration-color: #00af00\">0</span> │\n",
       "├─────────────────────────────────┼────────────────────────┼───────────────┤\n",
       "│ latent_features (<span style=\"color: #0087ff; text-decoration-color: #0087ff\">Dense</span>)         │ (<span style=\"color: #00d7ff; text-decoration-color: #00d7ff\">None</span>, <span style=\"color: #00af00; text-decoration-color: #00af00\">32</span>)             │     <span style=\"color: #00af00; text-decoration-color: #00af00\">3,211,296</span> │\n",
       "├─────────────────────────────────┼────────────────────────┼───────────────┤\n",
       "│ dense_5 (<span style=\"color: #0087ff; text-decoration-color: #0087ff\">Dense</span>)                 │ (<span style=\"color: #00d7ff; text-decoration-color: #00d7ff\">None</span>, <span style=\"color: #00af00; text-decoration-color: #00af00\">150528</span>)         │     <span style=\"color: #00af00; text-decoration-color: #00af00\">4,967,424</span> │\n",
       "├─────────────────────────────────┼────────────────────────┼───────────────┤\n",
       "│ dropout_5 (<span style=\"color: #0087ff; text-decoration-color: #0087ff\">Dropout</span>)             │ (<span style=\"color: #00d7ff; text-decoration-color: #00d7ff\">None</span>, <span style=\"color: #00af00; text-decoration-color: #00af00\">150528</span>)         │             <span style=\"color: #00af00; text-decoration-color: #00af00\">0</span> │\n",
       "├─────────────────────────────────┼────────────────────────┼───────────────┤\n",
       "│ reshape_3 (<span style=\"color: #0087ff; text-decoration-color: #0087ff\">Reshape</span>)             │ (<span style=\"color: #00d7ff; text-decoration-color: #00d7ff\">None</span>, <span style=\"color: #00af00; text-decoration-color: #00af00\">224</span>, <span style=\"color: #00af00; text-decoration-color: #00af00\">224</span>, <span style=\"color: #00af00; text-decoration-color: #00af00\">3</span>)    │             <span style=\"color: #00af00; text-decoration-color: #00af00\">0</span> │\n",
       "└─────────────────────────────────┴────────────────────────┴───────────────┘\n",
       "</pre>\n"
      ],
      "text/plain": [
       "┏━━━━━━━━━━━━━━━━━━━━━━━━━━━━━━━━━┳━━━━━━━━━━━━━━━━━━━━━━━━┳━━━━━━━━━━━━━━━┓\n",
       "┃\u001b[1m \u001b[0m\u001b[1mLayer (type)                   \u001b[0m\u001b[1m \u001b[0m┃\u001b[1m \u001b[0m\u001b[1mOutput Shape          \u001b[0m\u001b[1m \u001b[0m┃\u001b[1m \u001b[0m\u001b[1m      Param #\u001b[0m\u001b[1m \u001b[0m┃\n",
       "┡━━━━━━━━━━━━━━━━━━━━━━━━━━━━━━━━━╇━━━━━━━━━━━━━━━━━━━━━━━━╇━━━━━━━━━━━━━━━┩\n",
       "│ input_layer_5 (\u001b[38;5;33mInputLayer\u001b[0m)      │ (\u001b[38;5;45mNone\u001b[0m, \u001b[38;5;34m224\u001b[0m, \u001b[38;5;34m224\u001b[0m, \u001b[38;5;34m3\u001b[0m)    │             \u001b[38;5;34m0\u001b[0m │\n",
       "├─────────────────────────────────┼────────────────────────┼───────────────┤\n",
       "│ conv2d_10 (\u001b[38;5;33mConv2D\u001b[0m)              │ (\u001b[38;5;45mNone\u001b[0m, \u001b[38;5;34m224\u001b[0m, \u001b[38;5;34m224\u001b[0m, \u001b[38;5;34m16\u001b[0m)   │           \u001b[38;5;34m448\u001b[0m │\n",
       "├─────────────────────────────────┼────────────────────────┼───────────────┤\n",
       "│ max_pooling2d_10 (\u001b[38;5;33mMaxPooling2D\u001b[0m) │ (\u001b[38;5;45mNone\u001b[0m, \u001b[38;5;34m112\u001b[0m, \u001b[38;5;34m112\u001b[0m, \u001b[38;5;34m16\u001b[0m)   │             \u001b[38;5;34m0\u001b[0m │\n",
       "├─────────────────────────────────┼────────────────────────┼───────────────┤\n",
       "│ conv2d_11 (\u001b[38;5;33mConv2D\u001b[0m)              │ (\u001b[38;5;45mNone\u001b[0m, \u001b[38;5;34m112\u001b[0m, \u001b[38;5;34m112\u001b[0m, \u001b[38;5;34m32\u001b[0m)   │         \u001b[38;5;34m4,640\u001b[0m │\n",
       "├─────────────────────────────────┼────────────────────────┼───────────────┤\n",
       "│ max_pooling2d_11 (\u001b[38;5;33mMaxPooling2D\u001b[0m) │ (\u001b[38;5;45mNone\u001b[0m, \u001b[38;5;34m56\u001b[0m, \u001b[38;5;34m56\u001b[0m, \u001b[38;5;34m32\u001b[0m)     │             \u001b[38;5;34m0\u001b[0m │\n",
       "├─────────────────────────────────┼────────────────────────┼───────────────┤\n",
       "│ flatten_5 (\u001b[38;5;33mFlatten\u001b[0m)             │ (\u001b[38;5;45mNone\u001b[0m, \u001b[38;5;34m100352\u001b[0m)         │             \u001b[38;5;34m0\u001b[0m │\n",
       "├─────────────────────────────────┼────────────────────────┼───────────────┤\n",
       "│ latent_features (\u001b[38;5;33mDense\u001b[0m)         │ (\u001b[38;5;45mNone\u001b[0m, \u001b[38;5;34m32\u001b[0m)             │     \u001b[38;5;34m3,211,296\u001b[0m │\n",
       "├─────────────────────────────────┼────────────────────────┼───────────────┤\n",
       "│ dense_5 (\u001b[38;5;33mDense\u001b[0m)                 │ (\u001b[38;5;45mNone\u001b[0m, \u001b[38;5;34m150528\u001b[0m)         │     \u001b[38;5;34m4,967,424\u001b[0m │\n",
       "├─────────────────────────────────┼────────────────────────┼───────────────┤\n",
       "│ dropout_5 (\u001b[38;5;33mDropout\u001b[0m)             │ (\u001b[38;5;45mNone\u001b[0m, \u001b[38;5;34m150528\u001b[0m)         │             \u001b[38;5;34m0\u001b[0m │\n",
       "├─────────────────────────────────┼────────────────────────┼───────────────┤\n",
       "│ reshape_3 (\u001b[38;5;33mReshape\u001b[0m)             │ (\u001b[38;5;45mNone\u001b[0m, \u001b[38;5;34m224\u001b[0m, \u001b[38;5;34m224\u001b[0m, \u001b[38;5;34m3\u001b[0m)    │             \u001b[38;5;34m0\u001b[0m │\n",
       "└─────────────────────────────────┴────────────────────────┴───────────────┘\n"
      ]
     },
     "metadata": {},
     "output_type": "display_data"
    },
    {
     "data": {
      "text/html": [
       "<pre style=\"white-space:pre;overflow-x:auto;line-height:normal;font-family:Menlo,'DejaVu Sans Mono',consolas,'Courier New',monospace\"><span style=\"font-weight: bold\"> Total params: </span><span style=\"color: #00af00; text-decoration-color: #00af00\">8,183,808</span> (31.22 MB)\n",
       "</pre>\n"
      ],
      "text/plain": [
       "\u001b[1m Total params: \u001b[0m\u001b[38;5;34m8,183,808\u001b[0m (31.22 MB)\n"
      ]
     },
     "metadata": {},
     "output_type": "display_data"
    },
    {
     "data": {
      "text/html": [
       "<pre style=\"white-space:pre;overflow-x:auto;line-height:normal;font-family:Menlo,'DejaVu Sans Mono',consolas,'Courier New',monospace\"><span style=\"font-weight: bold\"> Trainable params: </span><span style=\"color: #00af00; text-decoration-color: #00af00\">8,183,808</span> (31.22 MB)\n",
       "</pre>\n"
      ],
      "text/plain": [
       "\u001b[1m Trainable params: \u001b[0m\u001b[38;5;34m8,183,808\u001b[0m (31.22 MB)\n"
      ]
     },
     "metadata": {},
     "output_type": "display_data"
    },
    {
     "data": {
      "text/html": [
       "<pre style=\"white-space:pre;overflow-x:auto;line-height:normal;font-family:Menlo,'DejaVu Sans Mono',consolas,'Courier New',monospace\"><span style=\"font-weight: bold\"> Non-trainable params: </span><span style=\"color: #00af00; text-decoration-color: #00af00\">0</span> (0.00 B)\n",
       "</pre>\n"
      ],
      "text/plain": [
       "\u001b[1m Non-trainable params: \u001b[0m\u001b[38;5;34m0\u001b[0m (0.00 B)\n"
      ]
     },
     "metadata": {},
     "output_type": "display_data"
    },
    {
     "name": "stdout",
     "output_type": "stream",
     "text": [
      "Training the autoencoder...\n",
      "Epoch 1/10\n",
      "\u001b[1m2/2\u001b[0m \u001b[32m━━━━━━━━━━━━━━━━━━━━\u001b[0m\u001b[37m\u001b[0m \u001b[1m3s\u001b[0m 112ms/step - loss: 0.1538\n",
      "Epoch 2/10\n",
      "\u001b[1m2/2\u001b[0m \u001b[32m━━━━━━━━━━━━━━━━━━━━\u001b[0m\u001b[37m\u001b[0m \u001b[1m0s\u001b[0m 115ms/step - loss: 0.1188\n",
      "Epoch 3/10\n",
      "\u001b[1m2/2\u001b[0m \u001b[32m━━━━━━━━━━━━━━━━━━━━\u001b[0m\u001b[37m\u001b[0m \u001b[1m0s\u001b[0m 107ms/step - loss: 0.1123\n",
      "Epoch 4/10\n",
      "\u001b[1m2/2\u001b[0m \u001b[32m━━━━━━━━━━━━━━━━━━━━\u001b[0m\u001b[37m\u001b[0m \u001b[1m0s\u001b[0m 106ms/step - loss: 0.1175\n",
      "Epoch 5/10\n",
      "\u001b[1m2/2\u001b[0m \u001b[32m━━━━━━━━━━━━━━━━━━━━\u001b[0m\u001b[37m\u001b[0m \u001b[1m0s\u001b[0m 103ms/step - loss: 0.1139\n",
      "Epoch 6/10\n",
      "\u001b[1m2/2\u001b[0m \u001b[32m━━━━━━━━━━━━━━━━━━━━\u001b[0m\u001b[37m\u001b[0m \u001b[1m0s\u001b[0m 106ms/step - loss: 0.1098\n",
      "Epoch 7/10\n",
      "\u001b[1m2/2\u001b[0m \u001b[32m━━━━━━━━━━━━━━━━━━━━\u001b[0m\u001b[37m\u001b[0m \u001b[1m0s\u001b[0m 106ms/step - loss: 0.1088\n",
      "Epoch 8/10\n",
      "\u001b[1m2/2\u001b[0m \u001b[32m━━━━━━━━━━━━━━━━━━━━\u001b[0m\u001b[37m\u001b[0m \u001b[1m0s\u001b[0m 115ms/step - loss: 0.1022\n",
      "Epoch 9/10\n",
      "\u001b[1m2/2\u001b[0m \u001b[32m━━━━━━━━━━━━━━━━━━━━\u001b[0m\u001b[37m\u001b[0m \u001b[1m0s\u001b[0m 160ms/step - loss: 0.1085\n",
      "Epoch 10/10\n",
      "\u001b[1m2/2\u001b[0m \u001b[32m━━━━━━━━━━━━━━━━━━━━\u001b[0m\u001b[37m\u001b[0m \u001b[1m0s\u001b[0m 121ms/step - loss: 0.1012\n",
      "Extracting latent features...\n",
      "\u001b[1m2/2\u001b[0m \u001b[32m━━━━━━━━━━━━━━━━━━━━\u001b[0m\u001b[37m\u001b[0m \u001b[1m0s\u001b[0m 196ms/step\n",
      "Calculating brightness...\n",
      "Clustering for dominant colors...\n"
     ]
    },
    {
     "name": "stderr",
     "output_type": "stream",
     "text": [
      "Mapping dominant colors to frames: 100%|██████████| 55/55 [00:06<00:00,  8.23it/s]"
     ]
    },
    {
     "name": "stdout",
     "output_type": "stream",
     "text": [
      "Reducing dimensions of latent features...\n",
      "Combining features into a DataFrame...\n",
      "    timestamp  brightness    color1    color2    color3   feature1  feature2\n",
      "0         0.0    0.255209  0.193568  0.154296  0.110908  -5.556422  0.001439\n",
      "1        20.0    0.234057  0.449268  0.337698  0.276993  -4.568350 -0.574080\n",
      "2        40.0    0.211482  0.429222  0.342250  0.270189  -5.304178 -0.323384\n",
      "3        60.0    0.309238  0.422126  0.381128  0.381933   0.661089  0.211802\n",
      "4        80.0    0.247844  0.440701  0.353675  0.288213  -3.313108 -0.720244\n",
      "5       100.0    0.624865  0.408358  0.438989  0.433211  20.678129 -0.287947\n",
      "6       120.0    0.211128  0.452274  0.348454  0.272239  -5.917360  0.151529\n",
      "7       140.0    0.443491  0.373395  0.405635  0.439488   9.732151 -0.111384\n",
      "8       160.0    0.288848  0.444475  0.403657  0.291397  -2.741557  0.111369\n",
      "9       180.0    0.242114  0.446401  0.354334  0.268317  -4.670162  0.215956\n",
      "10      200.0    0.179619  0.435153  0.342149  0.281579  -7.766010  0.398243\n",
      "11      220.0    0.462671  0.406971  0.431737  0.428797  10.159893 -0.246971\n",
      "12      240.0    0.231353  0.433238  0.337116  0.272614  -4.118546 -0.710952\n",
      "13      260.0    0.455707  0.424761  0.464442  0.370649   9.257080 -0.059759\n",
      "14      280.0    0.228738  0.436050  0.347660  0.276969  -5.016178 -0.200044\n",
      "15      300.0    0.403171  0.431639  0.397189  0.421998   6.639539  0.327727\n",
      "16      320.0    0.245366  0.436238  0.360782  0.355242  -3.009631  0.423074\n",
      "17      340.0    0.307821  0.472796  0.394151  0.344844   0.321996  0.151646\n",
      "18      360.0    0.161728  0.417464  0.333128  0.276142  -9.384399  0.390087\n",
      "19      380.0    0.245053  0.467062  0.382583  0.320399  -2.510681 -0.617474\n",
      "20      400.0    0.387825  0.412240  0.398157  0.358218   5.794877  0.111112\n",
      "21      420.0    0.668856  0.448950  0.462767  0.451377  22.602692 -0.079849\n",
      "22      440.0    0.218281  0.435849  0.344055  0.277049  -5.003965 -0.628982\n",
      "23      460.0    0.377628  0.439702  0.372384  0.334322   5.279191  0.725663\n",
      "24      480.0    0.270565  0.391472  0.398827  0.297972  -0.271933  0.481323\n",
      "25      500.0    0.231545  0.412629  0.344679  0.304221  -4.471776  0.053166\n",
      "26      520.0    0.424037  0.439596  0.370795  0.313051   6.870058 -0.266013\n",
      "27      540.0    0.157919  0.431187  0.396213  0.323409  -8.254405  0.559978\n",
      "28      560.0    0.234740  0.455392  0.332686  0.276350  -4.821445 -0.453773\n",
      "29      580.0    0.319490  0.463457  0.384047  0.334450   2.107599  0.385824\n",
      "30      600.0    0.548145  0.429288  0.432471  0.362179  14.319330 -0.403558\n",
      "31      620.0    0.217837  0.445684  0.397641  0.355762  -4.672824  0.446983\n",
      "32      640.0    0.371701  0.384649  0.403886  0.307737   4.230787 -0.231324\n",
      "33      660.0    0.321673  0.425541  0.396988  0.284275   0.205309 -0.191217\n",
      "34      680.0    0.290008  0.372865  0.358859  0.389549  -0.484725 -0.127039\n",
      "35      700.0    0.200695  0.457889  0.332186  0.276551  -7.223505  0.219708\n",
      "36      720.0    0.279601  0.489973  0.356966  0.207068  -1.015191 -0.334384\n",
      "37      740.0    0.184900  0.392924  0.402687  0.425506  -5.748141  1.079338\n",
      "38      760.0    0.348399  0.419332  0.396849  0.404209   4.851125  0.936798\n",
      "39      780.0    0.402430  0.432832  0.441401  0.351645   7.055872 -0.217963\n",
      "40      800.0    0.281237  0.422206  0.363802  0.341930  -3.176204 -0.101273\n",
      "41      820.0    0.172134  0.445289  0.340296  0.281716  -8.898610  0.349229\n",
      "42      840.0    0.194568  0.425956  0.336725  0.270872  -6.100489 -0.579071\n",
      "43      860.0    0.197031  0.437215  0.321949  0.258886  -6.451724 -0.547921\n",
      "44      880.0    0.194943  0.458085  0.337522  0.273848  -7.333773  0.223999\n",
      "45      900.0    0.223145  0.469937  0.387659  0.342656  -4.887268  0.125206\n",
      "46      920.0    0.190520  0.440142  0.323660  0.267950  -6.977714 -0.495934\n",
      "47      940.0    0.321618  0.380206  0.387423  0.399885   4.094692  1.132059\n",
      "48      960.0    0.405614  0.393182  0.385684  0.389083  10.087055  1.293121\n",
      "49      980.0    0.313555  0.413074  0.414789  0.347559   1.539616  0.192641\n",
      "50     1000.0    0.199125  0.420254  0.329935  0.268897  -6.088655 -0.503412\n",
      "51     1020.0    0.242723  0.479418  0.381200  0.331942  -2.024516 -0.514389\n",
      "52     1040.0    0.629389  0.383239  0.409486  0.451440  20.760277 -0.658710\n",
      "53     1060.0    0.280365  0.430467  0.336322  0.306644  -2.664820 -0.080322\n",
      "54     1080.0    0.193150  0.437209  0.324298  0.271350  -6.800125 -0.431652\n"
     ]
    },
    {
     "name": "stderr",
     "output_type": "stream",
     "text": [
      "\n"
     ]
    }
   ],
   "source": [
    "# Upload and analyze your .mp4 video file\n",
    "video_path = \"Test.mp4\"\n",
    "df_results = analyze_video(video_path)\n",
    "\n",
    "# Display the DataFrame\n",
    "print(df_results)"
   ]
  },
  {
   "cell_type": "code",
   "execution_count": 47,
   "metadata": {},
   "outputs": [
    {
     "name": "stdout",
     "output_type": "stream",
     "text": [
      "      color1    color2    color3\n",
      "0   0.193568  0.154296  0.110908\n",
      "1   0.449268  0.337698  0.276993\n",
      "2   0.429222  0.342250  0.270189\n",
      "3   0.422126  0.381128  0.381933\n",
      "4   0.440701  0.353675  0.288213\n",
      "5   0.408358  0.438989  0.433211\n",
      "6   0.452274  0.348454  0.272239\n",
      "7   0.373395  0.405635  0.439488\n",
      "8   0.444475  0.403657  0.291397\n",
      "9   0.446401  0.354334  0.268317\n",
      "10  0.435153  0.342149  0.281579\n",
      "11  0.406971  0.431737  0.428797\n",
      "12  0.433238  0.337116  0.272614\n",
      "13  0.424761  0.464442  0.370649\n",
      "14  0.436050  0.347660  0.276969\n",
      "15  0.431639  0.397189  0.421998\n",
      "16  0.436238  0.360782  0.355242\n",
      "17  0.472796  0.394151  0.344844\n",
      "18  0.417464  0.333128  0.276142\n",
      "19  0.467062  0.382583  0.320399\n",
      "20  0.412240  0.398157  0.358218\n",
      "21  0.448950  0.462767  0.451377\n",
      "22  0.435849  0.344055  0.277049\n",
      "23  0.439702  0.372384  0.334322\n",
      "24  0.391472  0.398827  0.297972\n",
      "25  0.412629  0.344679  0.304221\n",
      "26  0.439596  0.370795  0.313051\n",
      "27  0.431187  0.396213  0.323409\n",
      "28  0.455392  0.332686  0.276350\n",
      "29  0.463457  0.384047  0.334450\n",
      "30  0.429288  0.432471  0.362179\n",
      "31  0.445684  0.397641  0.355762\n",
      "32  0.384649  0.403886  0.307737\n",
      "33  0.425541  0.396988  0.284275\n",
      "34  0.372865  0.358859  0.389549\n",
      "35  0.457889  0.332186  0.276551\n",
      "36  0.489973  0.356966  0.207068\n",
      "37  0.392924  0.402687  0.425506\n",
      "38  0.419332  0.396849  0.404209\n",
      "39  0.432832  0.441401  0.351645\n",
      "40  0.422206  0.363802  0.341930\n",
      "41  0.445289  0.340296  0.281716\n",
      "42  0.425956  0.336725  0.270872\n",
      "43  0.437215  0.321949  0.258886\n",
      "44  0.458085  0.337522  0.273848\n",
      "45  0.469937  0.387659  0.342656\n",
      "46  0.440142  0.323660  0.267950\n",
      "47  0.380206  0.387423  0.399885\n",
      "48  0.393182  0.385684  0.389083\n",
      "49  0.413074  0.414789  0.347559\n",
      "50  0.420254  0.329935  0.268897\n",
      "51  0.479418  0.381200  0.331942\n",
      "52  0.383239  0.409486  0.451440\n",
      "53  0.430467  0.336322  0.306644\n",
      "54  0.437209  0.324298  0.271350\n"
     ]
    },
    {
     "data": {
      "image/png": "[encoded data removed]",
      "text/plain": [
       "<Figure size 1200x600 with 1 Axes>"
      ]
     },
     "metadata": {},
     "output_type": "display_data"
    }
   ],
   "source": [
    "import matplotlib.pyplot as plt\n",
    "import numpy as np\n",
    "\n",
    "def plot_mean_colors(feature_df):\n",
    "    # Extract mean colors\n",
    "    mean_colors = feature_df[[\"color1\", \"color2\", \"color3\"]]\n",
    "\n",
    "    # Create a figure\n",
    "    plt.figure(figsize=(12, 6))\n",
    "\n",
    "    print(mean_colors)\n",
    "    # Loop through each frame's color and plot\n",
    "    for i, color in enumerate(mean_colors.values):\n",
    "        # Ensure the color is a tuple of 3 values\n",
    "        color = np.clip(color, 0, 1)\n",
    "        color = tuple(color)  # Convert to tuple for safety\n",
    "        plt.bar(i, 1, color=color, width=1.0, edgecolor='none')  # Use color as RGB\n",
    "\n",
    "    # Add plot details\n",
    "    plt.title(\"Mean Color Visualization Across Frames\")\n",
    "    plt.xlabel(\"Frame Index\")\n",
    "    plt.ylabel(\"Color Intensity (Normalized)\")\n",
    "    plt.yticks([])  # Remove y-axis ticks for better clarity\n",
    "    plt.show()\n",
    "\n",
    "# Example usage\n",
    "# Assuming `feature_df` is your dataframe with the given structure\n",
    "plot_mean_colors(df_results)\n"
   ]
  },
  {
   "cell_type": "code",
   "execution_count": 48,
   "metadata": {},
   "outputs": [
    {
     "data": {
      "image/png": "[encoded data removed]",
      "text/plain": [
       "<Figure size 1200x600 with 1 Axes>"
      ]
     },
     "metadata": {},
     "output_type": "display_data"
    }
   ],
   "source": [
    "import matplotlib.pyplot as plt\n",
    "import numpy as np\n",
    "\n",
    "def plot_brightness(feature_df):\n",
    "    # Extract brightness values\n",
    "    brightness = feature_df[\"brightness\"].values\n",
    "\n",
    "    # Create a figure\n",
    "    plt.figure(figsize=(12, 6))\n",
    "\n",
    "    # Normalize brightness for color mapping (grayscale between 0 and 1)\n",
    "    brightness_normalized = np.clip(brightness, 0, 1)\n",
    "\n",
    "    # Loop through each frame's brightness and plot\n",
    "    for i, value in enumerate(brightness_normalized):\n",
    "        # Use grayscale for color (same intensity for R, G, B)\n",
    "        gray_color = (value, value, value)\n",
    "        plt.bar(i, value, color=gray_color, width=1.0, edgecolor='none')\n",
    "\n",
    "    # Add plot details\n",
    "    plt.title(\"Brightness Visualization Across Frames\")\n",
    "    plt.xlabel(\"Frame Index\")\n",
    "    plt.ylabel(\"Brightness (Normalized)\")\n",
    "    plt.ylim(0, 1)  # Brightness is normalized between 0 and 1\n",
    "    plt.show()\n",
    "\n",
    "# Example usage\n",
    "# Assuming `feature_df` is your dataframe with the given structure\n",
    "plot_brightness(df_results)"
   ]
  },
  {
   "cell_type": "code",
   "execution_count": 27,
   "metadata": {},
   "outputs": [],
   "source": [
    "from sklearn.preprocessing import StandardScaler\n",
    "\n",
    "# List of features to scale\n",
    "features_to_scale = ['brightness', 'color1', 'color2', 'color3', 'feature1', 'feature2']\n",
    "\n",
    "# Standardize the features\n",
    "scaler = StandardScaler()\n",
    "df_results[features_to_scale] = scaler.fit_transform(df_results[features_to_scale])"
   ]
  },
  {
   "cell_type": "code",
   "execution_count": 28,
   "metadata": {},
   "outputs": [],
   "source": [
    "from sklearn.preprocessing import PolynomialFeatures\n",
    "\n",
    "# Create interaction terms\n",
    "poly = PolynomialFeatures(degree=2, interaction_only=True, include_bias=False)\n",
    "interaction_features = poly.fit_transform(df_results[features_to_scale])\n",
    "\n",
    "# Convert to DataFrame\n",
    "interaction_df = pd.DataFrame(interaction_features, columns=poly.get_feature_names_out(features_to_scale))\n",
    "\n",
    "# Add to original DataFrame\n",
    "df_results = pd.concat([df_results, interaction_df], axis=1)"
   ]
  },
  {
   "cell_type": "code",
   "execution_count": 29,
   "metadata": {},
   "outputs": [
    {
     "name": "stdout",
     "output_type": "stream",
     "text": [
      "                     timestamp  brightness    color1    color2    color3  \\\n",
      "timestamp             1.000000   -0.087882  0.150670  0.050445  0.081446   \n",
      "brightness           -0.087882    1.000000 -0.164534  0.626624  0.665649   \n",
      "color1                0.150670   -0.164534  1.000000  0.357526  0.054048   \n",
      "color2                0.050445    0.626624  0.357526  1.000000  0.798679   \n",
      "color3                0.081446    0.665649  0.054048  0.798679  1.000000   \n",
      "feature1             -0.044165    0.987843 -0.134467  0.641947  0.709035   \n",
      "feature2              0.098740   -0.095107  0.228895 -0.067089 -0.141844   \n",
      "brightness           -0.087882    1.000000 -0.164534  0.626624  0.665649   \n",
      "color1                0.150670   -0.164534  1.000000  0.357526  0.054048   \n",
      "color2                0.050445    0.626624  0.357526  1.000000  0.798679   \n",
      "color3                0.081446    0.665649  0.054048  0.798679  1.000000   \n",
      "feature1             -0.044165    0.987843 -0.134467  0.641947  0.709035   \n",
      "feature2              0.098740   -0.095107  0.228895 -0.067089 -0.141844   \n",
      "brightness color1    -0.200408   -0.162297 -0.264390 -0.277374 -0.310182   \n",
      "brightness color2    -0.137506    0.696776 -0.165299  0.262720  0.279989   \n",
      "brightness color3    -0.098618    0.712762 -0.161637  0.244827  0.380358   \n",
      "brightness feature1  -0.027018    0.735172 -0.068215  0.400217  0.482867   \n",
      "brightness feature2  -0.085132   -0.358244 -0.083014 -0.154775 -0.105839   \n",
      "color1 color2        -0.234210   -0.050886 -0.747123 -0.614927 -0.439973   \n",
      "color1 color3        -0.245444   -0.077648 -0.705467 -0.600351 -0.462228   \n",
      "color1 feature1      -0.234077   -0.154111 -0.419304 -0.434792 -0.424696   \n",
      "color1 feature2      -0.091138   -0.055700 -0.369780 -0.467814 -0.429872   \n",
      "color2 color3        -0.244423    0.148113 -0.756051 -0.494291 -0.280327   \n",
      "color2 feature1      -0.167579    0.651587 -0.313332  0.121756  0.201846   \n",
      "color2 feature2      -0.174402   -0.134462 -0.605711 -0.494517 -0.260328   \n",
      "color3 feature1      -0.116603    0.703513 -0.273886  0.180629  0.355651   \n",
      "color3 feature2      -0.117816   -0.078974 -0.478044 -0.223593 -0.073978   \n",
      "feature1 feature2    -0.045860   -0.345277 -0.089159 -0.174113 -0.141384   \n",
      "\n",
      "                         feature1      feature2  brightness    color1  \\\n",
      "timestamp           -4.416483e-02  9.873974e-02   -0.087882  0.150670   \n",
      "brightness           9.878426e-01 -9.510737e-02    1.000000 -0.164534   \n",
      "color1              -1.344667e-01  2.288949e-01   -0.164534  1.000000   \n",
      "color2               6.419475e-01 -6.708928e-02    0.626624  0.357526   \n",
      "color3               7.090348e-01 -1.418436e-01    0.665649  0.054048   \n",
      "feature1             1.000000e+00  4.651331e-08    0.987843 -0.134467   \n",
      "feature2             4.651331e-08  1.000000e+00   -0.095107  0.228895   \n",
      "brightness           9.878426e-01 -9.510737e-02    1.000000 -0.164534   \n",
      "color1              -1.344667e-01  2.288949e-01   -0.164534  1.000000   \n",
      "color2               6.419475e-01 -6.708928e-02    0.626624  0.357526   \n",
      "color3               7.090348e-01 -1.418436e-01    0.665649  0.054048   \n",
      "feature1             1.000000e+00  4.651331e-08    0.987843 -0.134467   \n",
      "feature2             4.651331e-08  1.000000e+00   -0.095107  0.228895   \n",
      "brightness color1   -1.912541e-01 -9.373466e-02   -0.162297 -0.264390   \n",
      "brightness color2    6.686977e-01 -1.041490e-01    0.696776 -0.165299   \n",
      "brightness color3    7.054734e-01 -6.227587e-02    0.712762 -0.161637   \n",
      "brightness feature1  7.263142e-01 -1.426556e-01    0.735172 -0.068215   \n",
      "brightness feature2 -3.542168e-01 -2.896090e-01   -0.358244 -0.083014   \n",
      "color1 color2       -9.898955e-02 -1.444273e-01   -0.050886 -0.747123   \n",
      "color1 color3       -1.319369e-01 -1.810901e-01   -0.077648 -0.705467   \n",
      "color1 feature1     -1.927080e-01 -8.322251e-02   -0.154111 -0.419304   \n",
      "color1 feature2     -6.137240e-02  2.982055e-01   -0.055700 -0.369780   \n",
      "color2 color3        1.095799e-01 -1.066671e-01    0.148113 -0.756051   \n",
      "color2 feature1      6.234385e-01 -1.171196e-01    0.651587 -0.313332   \n",
      "color2 feature2     -1.551782e-01 -2.286201e-01   -0.134462 -0.605711   \n",
      "color3 feature1      6.934878e-01 -8.510704e-02    0.703513 -0.273886   \n",
      "color3 feature2     -1.082270e-01 -3.410990e-01   -0.078974 -0.478044   \n",
      "feature1 feature2   -3.409696e-01 -2.280437e-01   -0.345277 -0.089159   \n",
      "\n",
      "                       color2  ...  color1 color2  color1 color3  \\\n",
      "timestamp            0.050445  ...      -0.234210      -0.245444   \n",
      "brightness           0.626624  ...      -0.050886      -0.077648   \n",
      "color1               0.357526  ...      -0.747123      -0.705467   \n",
      "color2               1.000000  ...      -0.614927      -0.600351   \n",
      "color3               0.798679  ...      -0.439973      -0.462228   \n",
      "feature1             0.641947  ...      -0.098990      -0.131937   \n",
      "feature2            -0.067089  ...      -0.144427      -0.181090   \n",
      "brightness           0.626624  ...      -0.050886      -0.077648   \n",
      "color1               0.357526  ...      -0.747123      -0.705467   \n",
      "color2               1.000000  ...      -0.614927      -0.600351   \n",
      "color3               0.798679  ...      -0.439973      -0.462228   \n",
      "feature1             0.641947  ...      -0.098990      -0.131937   \n",
      "feature2            -0.067089  ...      -0.144427      -0.181090   \n",
      "brightness color1   -0.277374  ...       0.528925       0.581838   \n",
      "brightness color2    0.262720  ...       0.142808       0.149472   \n",
      "brightness color3    0.244827  ...       0.050164       0.020023   \n",
      "brightness feature1  0.400217  ...      -0.051549      -0.066737   \n",
      "brightness feature2 -0.154775  ...       0.087493       0.095398   \n",
      "color1 color2       -0.614927  ...       1.000000       0.980024   \n",
      "color1 color3       -0.600351  ...       0.980024       1.000000   \n",
      "color1 feature1     -0.434792  ...       0.745744       0.781590   \n",
      "color1 feature2     -0.467814  ...       0.654302       0.582256   \n",
      "color2 color3       -0.494291  ...       0.933848       0.901630   \n",
      "color2 feature1      0.121756  ...       0.325428       0.325405   \n",
      "color2 feature2     -0.494517  ...       0.730632       0.711213   \n",
      "color3 feature1      0.180629  ...       0.164642       0.130672   \n",
      "color3 feature2     -0.223593  ...       0.461015       0.511277   \n",
      "feature1 feature2   -0.174113  ...       0.129837       0.125624   \n",
      "\n",
      "                     color1 feature1  color1 feature2  color2 color3  \\\n",
      "timestamp                  -0.234077        -0.091138      -0.244423   \n",
      "brightness                 -0.154111        -0.055700       0.148113   \n",
      "color1                     -0.419304        -0.369780      -0.756051   \n",
      "color2                     -0.434792        -0.467814      -0.494291   \n",
      "color3                     -0.424696        -0.429872      -0.280327   \n",
      "feature1                   -0.192708        -0.061372       0.109580   \n",
      "feature2                   -0.083223         0.298206      -0.106667   \n",
      "brightness                 -0.154111        -0.055700       0.148113   \n",
      "color1                     -0.419304        -0.369780      -0.756051   \n",
      "color2                     -0.434792        -0.467814      -0.494291   \n",
      "color3                     -0.424696        -0.429872      -0.280327   \n",
      "feature1                   -0.192708        -0.061372       0.109580   \n",
      "feature2                   -0.083223         0.298206      -0.106667   \n",
      "brightness color1           0.950534         0.281159       0.437680   \n",
      "brightness color2           0.112795         0.043799       0.418224   \n",
      "brightness color3          -0.173577         0.019221       0.336725   \n",
      "brightness feature1        -0.155286        -0.070552       0.222421   \n",
      "brightness feature2         0.118360        -0.230952       0.005765   \n",
      "color1 color2               0.745744         0.654302       0.933848   \n",
      "color1 color3               0.781590         0.582256       0.901630   \n",
      "color1 feature1             1.000000         0.507396       0.653040   \n",
      "color1 feature2             0.507396         1.000000       0.610102   \n",
      "color2 color3               0.653040         0.610102       1.000000   \n",
      "color2 feature1             0.240280         0.164352       0.584907   \n",
      "color2 feature2             0.495189         0.372656       0.663642   \n",
      "color3 feature1            -0.095756         0.062342       0.440336   \n",
      "color3 feature2             0.285800        -0.146575       0.399098   \n",
      "feature1 feature2           0.140991        -0.150631       0.028836   \n",
      "\n",
      "                     color2 feature1  color2 feature2  color3 feature1  \\\n",
      "timestamp                  -0.167579        -0.174402        -0.116603   \n",
      "brightness                  0.651587        -0.134462         0.703513   \n",
      "color1                     -0.313332        -0.605711        -0.273886   \n",
      "color2                      0.121756        -0.494517         0.180629   \n",
      "color3                      0.201846        -0.260328         0.355651   \n",
      "feature1                    0.623438        -0.155178         0.693488   \n",
      "feature2                   -0.117120        -0.228620        -0.085107   \n",
      "brightness                  0.651587        -0.134462         0.703513   \n",
      "color1                     -0.313332        -0.605711        -0.273886   \n",
      "color2                      0.121756        -0.494517         0.180629   \n",
      "color3                      0.201846        -0.260328         0.355651   \n",
      "feature1                    0.623438        -0.155178         0.693488   \n",
      "feature2                   -0.117120        -0.228620        -0.085107   \n",
      "brightness color1           0.165399         0.333303        -0.181824   \n",
      "brightness color2           0.978696         0.012420         0.862134   \n",
      "brightness color3           0.854431        -0.021063         0.988464   \n",
      "brightness feature1         0.825880        -0.110584         0.900694   \n",
      "brightness feature2        -0.213515         0.546292        -0.238997   \n",
      "color1 color2               0.325428         0.730632         0.164642   \n",
      "color1 color3               0.325405         0.711213         0.130672   \n",
      "color1 feature1             0.240280         0.495189        -0.095756   \n",
      "color1 feature2             0.164352         0.372656         0.062342   \n",
      "color2 color3               0.584907         0.663642         0.440336   \n",
      "color2 feature1             1.000000         0.179007         0.871386   \n",
      "color2 feature2             0.179007         1.000000         0.086827   \n",
      "color3 feature1             0.871386         0.086827         1.000000   \n",
      "color3 feature2             0.122349         0.713920         0.051447   \n",
      "feature1 feature2          -0.227358         0.564024        -0.247491   \n",
      "\n",
      "                     color3 feature2  feature1 feature2  \n",
      "timestamp                  -0.117816          -0.045860  \n",
      "brightness                 -0.078974          -0.345277  \n",
      "color1                     -0.478044          -0.089159  \n",
      "color2                     -0.223593          -0.174113  \n",
      "color3                     -0.073978          -0.141384  \n",
      "feature1                   -0.108227          -0.340970  \n",
      "feature2                   -0.341099          -0.228044  \n",
      "brightness                 -0.078974          -0.345277  \n",
      "color1                     -0.478044          -0.089159  \n",
      "color2                     -0.223593          -0.174113  \n",
      "color3                     -0.073978          -0.141384  \n",
      "feature1                   -0.108227          -0.340970  \n",
      "feature2                   -0.341099          -0.228044  \n",
      "brightness color1           0.240357           0.168990  \n",
      "brightness color2           0.020029          -0.287025  \n",
      "brightness color3          -0.058447          -0.304537  \n",
      "brightness feature1        -0.082348          -0.335394  \n",
      "brightness feature2         0.551386           0.977150  \n",
      "color1 color2               0.461015           0.129837  \n",
      "color1 color3               0.511277           0.125624  \n",
      "color1 feature1             0.285800           0.140991  \n",
      "color1 feature2            -0.146575          -0.150631  \n",
      "color2 color3               0.399098           0.028836  \n",
      "color2 feature1             0.122349          -0.227358  \n",
      "color2 feature2             0.713920           0.564024  \n",
      "color3 feature1             0.051447          -0.247491  \n",
      "color3 feature2             1.000000           0.565211  \n",
      "feature1 feature2           0.565211           1.000000  \n",
      "\n",
      "[28 rows x 28 columns]\n"
     ]
    }
   ],
   "source": [
    "print(df_results.corr())"
   ]
  },
  {
   "cell_type": "code",
   "execution_count": 30,
   "metadata": {},
   "outputs": [],
   "source": [
    "df_results.to_csv('C:/Users/nosso/OneDrive/Desktop/CNN.csv')"
   ]
  }
 ],
 "metadata": {
  "colab": {
   "collapsed_sections": [
    "gj6GSchoY9fP"
   ],
   "provenance": []
  },
  "kernelspec": {
   "display_name": "base",
   "language": "python",
   "name": "python3"
  },
  "language_info": {
   "codemirror_mode": {
    "name": "ipython",
    "version": 3
   },
   "file_extension": ".py",
   "mimetype": "text/x-python",
   "name": "python",
   "nbconvert_exporter": "python",
   "pygments_lexer": "ipython3",
   "version": "3.10.14"
  }
 },
 "nbformat": 4,
 "nbformat_minor": 0
}
