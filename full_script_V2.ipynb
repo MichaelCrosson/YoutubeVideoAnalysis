{
 "cells": [
  {
   "cell_type": "code",
   "execution_count": 2,
   "metadata": {},
   "outputs": [
    {
     "name": "stdout",
     "output_type": "stream",
     "text": [
      "Requirement already satisfied: torch in c:\\users\\aschm\\anaconda3\\lib\\site-packages (2.4.0)\n",
      "Requirement already satisfied: torchvision in c:\\users\\aschm\\anaconda3\\lib\\site-packages (0.19.0)\n",
      "Requirement already satisfied: transformers in c:\\users\\aschm\\anaconda3\\lib\\site-packages (4.46.3)\n",
      "Requirement already satisfied: opencv-python in c:\\users\\aschm\\anaconda3\\lib\\site-packages (4.10.0.84)\n",
      "Requirement already satisfied: pandas in c:\\users\\aschm\\anaconda3\\lib\\site-packages (1.3.4)\n",
      "Requirement already satisfied: ultralytics in c:\\users\\aschm\\anaconda3\\lib\\site-packages (8.2.85)\n",
      "Requirement already satisfied: moviepy in c:\\users\\aschm\\anaconda3\\lib\\site-packages (1.0.3)\n",
      "Requirement already satisfied: ollama in c:\\users\\aschm\\anaconda3\\lib\\site-packages (0.3.3)\n",
      "Collecting pytubefix\n",
      "  Downloading pytubefix-8.6.0-py3-none-any.whl (84 kB)\n",
      "Requirement already satisfied: filelock in c:\\users\\aschm\\anaconda3\\lib\\site-packages (from torch) (3.3.1)\n",
      "Requirement already satisfied: fsspec in c:\\users\\aschm\\anaconda3\\lib\\site-packages (from torch) (2024.10.0)\n",
      "Requirement already satisfied: typing-extensions>=4.8.0 in c:\\users\\aschm\\anaconda3\\lib\\site-packages (from torch) (4.12.2)\n",
      "Requirement already satisfied: sympy in c:\\users\\aschm\\anaconda3\\lib\\site-packages (from torch) (1.9)\n",
      "Requirement already satisfied: jinja2 in c:\\users\\aschm\\anaconda3\\lib\\site-packages (from torch) (2.11.3)\n",
      "Requirement already satisfied: networkx in c:\\users\\aschm\\anaconda3\\lib\\site-packages (from torch) (2.6.3)\n",
      "Requirement already satisfied: numpy<2 in c:\\users\\aschm\\anaconda3\\lib\\site-packages (from torchvision) (1.26.4)\n",
      "Requirement already satisfied: pillow!=8.3.*,>=5.3.0 in c:\\users\\aschm\\anaconda3\\lib\\site-packages (from torchvision) (8.4.0)\n",
      "Requirement already satisfied: huggingface-hub<1.0,>=0.23.2 in c:\\users\\aschm\\anaconda3\\lib\\site-packages (from transformers) (0.26.2)\n",
      "Requirement already satisfied: pyyaml>=5.1 in c:\\users\\aschm\\anaconda3\\lib\\site-packages (from transformers) (6.0)\n",
      "Requirement already satisfied: tokenizers<0.21,>=0.20 in c:\\users\\aschm\\anaconda3\\lib\\site-packages (from transformers) (0.20.3)\n",
      "Requirement already satisfied: regex!=2019.12.17 in c:\\users\\aschm\\anaconda3\\lib\\site-packages (from transformers) (2021.8.3)\n",
      "Requirement already satisfied: requests in c:\\users\\aschm\\anaconda3\\lib\\site-packages (from transformers) (2.32.3)\n",
      "Requirement already satisfied: tqdm>=4.27 in c:\\users\\aschm\\anaconda3\\lib\\site-packages (from transformers) (4.67.0)\n",
      "Requirement already satisfied: safetensors>=0.4.1 in c:\\users\\aschm\\anaconda3\\lib\\site-packages (from transformers) (0.4.5)\n",
      "Requirement already satisfied: packaging>=20.0 in c:\\users\\aschm\\anaconda3\\lib\\site-packages (from transformers) (21.0)\n",
      "Requirement already satisfied: pytz>=2017.3 in c:\\users\\aschm\\anaconda3\\lib\\site-packages (from pandas) (2024.2)\n",
      "Requirement already satisfied: python-dateutil>=2.7.3 in c:\\users\\aschm\\anaconda3\\lib\\site-packages (from pandas) (2.8.2)\n",
      "Requirement already satisfied: matplotlib>=3.3.0 in c:\\users\\aschm\\anaconda3\\lib\\site-packages (from ultralytics) (3.4.3)\n",
      "Requirement already satisfied: psutil in c:\\users\\aschm\\anaconda3\\lib\\site-packages (from ultralytics) (5.8.0)\n",
      "Requirement already satisfied: py-cpuinfo in c:\\users\\aschm\\anaconda3\\lib\\site-packages (from ultralytics) (9.0.0)\n",
      "Requirement already satisfied: seaborn>=0.11.0 in c:\\users\\aschm\\anaconda3\\lib\\site-packages (from ultralytics) (0.11.2)\n",
      "Requirement already satisfied: scipy>=1.4.1 in c:\\users\\aschm\\anaconda3\\lib\\site-packages (from ultralytics) (1.13.1)\n",
      "Requirement already satisfied: ultralytics-thop>=2.0.0 in c:\\users\\aschm\\anaconda3\\lib\\site-packages (from ultralytics) (2.0.12)\n",
      "Requirement already satisfied: proglog<=1.0.0 in c:\\users\\aschm\\anaconda3\\lib\\site-packages (from moviepy) (0.1.10)\n",
      "Requirement already satisfied: imageio<3.0,>=2.5 in c:\\users\\aschm\\anaconda3\\lib\\site-packages (from moviepy) (2.9.0)\n",
      "Requirement already satisfied: decorator<5.0,>=4.0.2 in c:\\users\\aschm\\anaconda3\\lib\\site-packages (from moviepy) (4.4.2)\n",
      "Requirement already satisfied: imageio-ffmpeg>=0.2.0 in c:\\users\\aschm\\anaconda3\\lib\\site-packages (from moviepy) (0.5.1)\n",
      "Requirement already satisfied: httpx<0.28.0,>=0.27.0 in c:\\users\\aschm\\anaconda3\\lib\\site-packages (from ollama) (0.27.2)\n",
      "Requirement already satisfied: sniffio in c:\\users\\aschm\\anaconda3\\lib\\site-packages (from httpx<0.28.0,>=0.27.0->ollama) (1.3.1)\n",
      "Requirement already satisfied: certifi in c:\\users\\aschm\\anaconda3\\lib\\site-packages (from httpx<0.28.0,>=0.27.0->ollama) (2021.10.8)\n",
      "Requirement already satisfied: anyio in c:\\users\\aschm\\anaconda3\\lib\\site-packages (from httpx<0.28.0,>=0.27.0->ollama) (4.6.2.post1)\n",
      "Requirement already satisfied: httpcore==1.* in c:\\users\\aschm\\anaconda3\\lib\\site-packages (from httpx<0.28.0,>=0.27.0->ollama) (1.0.7)\n",
      "Requirement already satisfied: idna in c:\\users\\aschm\\anaconda3\\lib\\site-packages (from httpx<0.28.0,>=0.27.0->ollama) (3.2)\n",
      "Requirement already satisfied: h11<0.15,>=0.13 in c:\\users\\aschm\\anaconda3\\lib\\site-packages (from httpcore==1.*->httpx<0.28.0,>=0.27.0->ollama) (0.14.0)\n",
      "Requirement already satisfied: setuptools in c:\\users\\aschm\\anaconda3\\lib\\site-packages (from imageio-ffmpeg>=0.2.0->moviepy) (58.0.4)\n",
      "Requirement already satisfied: kiwisolver>=1.0.1 in c:\\users\\aschm\\anaconda3\\lib\\site-packages (from matplotlib>=3.3.0->ultralytics) (1.3.1)\n",
      "Requirement already satisfied: pyparsing>=2.2.1 in c:\\users\\aschm\\anaconda3\\lib\\site-packages (from matplotlib>=3.3.0->ultralytics) (3.0.4)\n",
      "Requirement already satisfied: cycler>=0.10 in c:\\users\\aschm\\anaconda3\\lib\\site-packages (from matplotlib>=3.3.0->ultralytics) (0.10.0)\n",
      "Requirement already satisfied: six in c:\\users\\aschm\\anaconda3\\lib\\site-packages (from cycler>=0.10->matplotlib>=3.3.0->ultralytics) (1.16.0)\n",
      "Requirement already satisfied: charset-normalizer<4,>=2 in c:\\users\\aschm\\anaconda3\\lib\\site-packages (from requests->transformers) (2.0.4)\n",
      "Requirement already satisfied: urllib3<3,>=1.21.1 in c:\\users\\aschm\\anaconda3\\lib\\site-packages (from requests->transformers) (1.26.7)\n",
      "Requirement already satisfied: colorama in c:\\users\\aschm\\anaconda3\\lib\\site-packages (from tqdm>=4.27->transformers) (0.4.4)\n",
      "Requirement already satisfied: exceptiongroup>=1.0.2 in c:\\users\\aschm\\anaconda3\\lib\\site-packages (from anyio->httpx<0.28.0,>=0.27.0->ollama) (1.2.2)\n",
      "Requirement already satisfied: MarkupSafe>=0.23 in c:\\users\\aschm\\anaconda3\\lib\\site-packages (from jinja2->torch) (1.1.1)\n",
      "Requirement already satisfied: mpmath>=0.19 in c:\\users\\aschm\\anaconda3\\lib\\site-packages (from sympy->torch) (1.2.1)\n",
      "Installing collected packages: pytubefix\n",
      "Successfully installed pytubefix-8.6.0\n",
      "Name: moviepy\n",
      "Version: 1.0.3\n",
      "Summary: Video editing with Python\n",
      "Home-page: https://zulko.github.io/moviepy/\n",
      "Author: Zulko 2017\n",
      "Author-email: \n",
      "License: MIT License\n",
      "Location: c:\\users\\aschm\\anaconda3\\lib\\site-packages\n",
      "Requires: numpy, imageio, requests, numpy, proglog, decorator, imageio-ffmpeg, tqdm\n",
      "Required-by: \n"
     ]
    }
   ],
   "source": [
    "#!pip install torch torchvision transformers opencv-python pandas ultralytics moviepy ollama pytubefix\n",
    "#!pip show moviepy"
   ]
  },
  {
   "cell_type": "code",
   "execution_count": 3,
   "metadata": {},
   "outputs": [],
   "source": [
    "import pandas as pd\n",
    "import numpy as np\n",
    "import matplotlib.pyplot as plt\n",
    "import seaborn as sns\n",
    "from pytubefix import YouTube\n",
    "from pytubefix.cli import on_progress\n",
    "import pandas as pd\n",
    "from moviepy.video.io.VideoFileClip import VideoFileClip\n",
    "from PIL import Image\n",
    "import io\n",
    "from tqdm import tqdm\n",
    "import os\n",
    "import ollama"
   ]
  },
  {
   "cell_type": "code",
   "execution_count": 4,
   "metadata": {},
   "outputs": [],
   "source": [
    "df = pd.read_csv('Video_Details.csv', encoding='ISO-8859-1')"
   ]
  },
  {
   "cell_type": "code",
   "execution_count": 5,
   "metadata": {},
   "outputs": [
    {
     "data": {
      "text/html": [
       "<div>\n",
       "<style scoped>\n",
       "    .dataframe tbody tr th:only-of-type {\n",
       "        vertical-align: middle;\n",
       "    }\n",
       "\n",
       "    .dataframe tbody tr th {\n",
       "        vertical-align: top;\n",
       "    }\n",
       "\n",
       "    .dataframe thead th {\n",
       "        text-align: right;\n",
       "    }\n",
       "</style>\n",
       "<table border=\"1\" class=\"dataframe\">\n",
       "  <thead>\n",
       "    <tr style=\"text-align: right;\">\n",
       "      <th></th>\n",
       "      <th>channel_name</th>\n",
       "      <th>video_id</th>\n",
       "      <th>video_title</th>\n",
       "      <th>published_datetime</th>\n",
       "      <th>duration</th>\n",
       "      <th>view_count</th>\n",
       "      <th>like_count</th>\n",
       "      <th>dislike_count</th>\n",
       "      <th>comment_count</th>\n",
       "      <th>description</th>\n",
       "      <th>thumbnail_url</th>\n",
       "    </tr>\n",
       "  </thead>\n",
       "  <tbody>\n",
       "    <tr>\n",
       "      <th>0</th>\n",
       "      <td>@Mrwhosetheboss</td>\n",
       "      <td>neIYdLysqlk</td>\n",
       "      <td>I tested the Craziest Xiaomi Gadgets!</td>\n",
       "      <td>2024-11-13T12:04:54Z</td>\n",
       "      <td>PT27M53S</td>\n",
       "      <td>6679521</td>\n",
       "      <td>219704</td>\n",
       "      <td>0</td>\n",
       "      <td>8890</td>\n",
       "      <td>I'm still genuinely in shock how great some of...</td>\n",
       "      <td>https://i.ytimg.com/vi/neIYdLysqlk/hqdefault.jpg</td>\n",
       "    </tr>\n",
       "    <tr>\n",
       "      <th>1</th>\n",
       "      <td>@Mrwhosetheboss</td>\n",
       "      <td>YX8ks42Azn8</td>\n",
       "      <td>The TRIPLE FOLDING phone has a Problem.</td>\n",
       "      <td>2024-10-26T14:06:50Z</td>\n",
       "      <td>PT12M54S</td>\n",
       "      <td>3464013</td>\n",
       "      <td>111736</td>\n",
       "      <td>0</td>\n",
       "      <td>5932</td>\n",
       "      <td>This phone has a LOT of good....and a LOT of b...</td>\n",
       "      <td>https://i.ytimg.com/vi/YX8ks42Azn8/hqdefault.jpg</td>\n",
       "    </tr>\n",
       "  </tbody>\n",
       "</table>\n",
       "</div>"
      ],
      "text/plain": [
       "      channel_name     video_id                              video_title  \\\n",
       "0  @Mrwhosetheboss  neIYdLysqlk    I tested the Craziest Xiaomi Gadgets!   \n",
       "1  @Mrwhosetheboss  YX8ks42Azn8  The TRIPLE FOLDING phone has a Problem.   \n",
       "\n",
       "     published_datetime  duration  view_count  like_count  dislike_count  \\\n",
       "0  2024-11-13T12:04:54Z  PT27M53S     6679521      219704              0   \n",
       "1  2024-10-26T14:06:50Z  PT12M54S     3464013      111736              0   \n",
       "\n",
       "   comment_count                                        description  \\\n",
       "0           8890  I'm still genuinely in shock how great some of...   \n",
       "1           5932  This phone has a LOT of good....and a LOT of b...   \n",
       "\n",
       "                                      thumbnail_url  \n",
       "0  https://i.ytimg.com/vi/neIYdLysqlk/hqdefault.jpg  \n",
       "1  https://i.ytimg.com/vi/YX8ks42Azn8/hqdefault.jpg  "
      ]
     },
     "execution_count": 5,
     "metadata": {},
     "output_type": "execute_result"
    }
   ],
   "source": [
    "df.head(2)"
   ]
  },
  {
   "cell_type": "code",
   "execution_count": 6,
   "metadata": {},
   "outputs": [
    {
     "name": "stdout",
     "output_type": "stream",
     "text": [
      "<class 'pandas.core.frame.DataFrame'>\n",
      "RangeIndex: 45 entries, 0 to 44\n",
      "Data columns (total 11 columns):\n",
      " #   Column              Non-Null Count  Dtype \n",
      "---  ------              --------------  ----- \n",
      " 0   channel_name        45 non-null     object\n",
      " 1   video_id            45 non-null     object\n",
      " 2   video_title         45 non-null     object\n",
      " 3   published_datetime  45 non-null     object\n",
      " 4   duration            45 non-null     object\n",
      " 5   view_count          45 non-null     int64 \n",
      " 6   like_count          45 non-null     int64 \n",
      " 7   dislike_count       45 non-null     int64 \n",
      " 8   comment_count       45 non-null     int64 \n",
      " 9   description         45 non-null     object\n",
      " 10  thumbnail_url       45 non-null     object\n",
      "dtypes: int64(4), object(7)\n",
      "memory usage: 4.0+ KB\n"
     ]
    }
   ],
   "source": [
    "df.info()"
   ]
  },
  {
   "cell_type": "code",
   "execution_count": 7,
   "metadata": {},
   "outputs": [],
   "source": [
    "df['video_url'] = df['video_id'].apply(lambda x: f\"https://www.youtube.com/watch?v={x}\")"
   ]
  },
  {
   "cell_type": "code",
   "execution_count": 8,
   "metadata": {},
   "outputs": [
    {
     "data": {
      "text/html": [
       "<div>\n",
       "<style scoped>\n",
       "    .dataframe tbody tr th:only-of-type {\n",
       "        vertical-align: middle;\n",
       "    }\n",
       "\n",
       "    .dataframe tbody tr th {\n",
       "        vertical-align: top;\n",
       "    }\n",
       "\n",
       "    .dataframe thead th {\n",
       "        text-align: right;\n",
       "    }\n",
       "</style>\n",
       "<table border=\"1\" class=\"dataframe\">\n",
       "  <thead>\n",
       "    <tr style=\"text-align: right;\">\n",
       "      <th></th>\n",
       "      <th>channel_name</th>\n",
       "      <th>video_id</th>\n",
       "      <th>video_title</th>\n",
       "      <th>published_datetime</th>\n",
       "      <th>duration</th>\n",
       "      <th>view_count</th>\n",
       "      <th>like_count</th>\n",
       "      <th>dislike_count</th>\n",
       "      <th>comment_count</th>\n",
       "      <th>description</th>\n",
       "      <th>thumbnail_url</th>\n",
       "      <th>video_url</th>\n",
       "    </tr>\n",
       "  </thead>\n",
       "  <tbody>\n",
       "    <tr>\n",
       "      <th>0</th>\n",
       "      <td>@Mrwhosetheboss</td>\n",
       "      <td>neIYdLysqlk</td>\n",
       "      <td>I tested the Craziest Xiaomi Gadgets!</td>\n",
       "      <td>2024-11-13T12:04:54Z</td>\n",
       "      <td>PT27M53S</td>\n",
       "      <td>6679521</td>\n",
       "      <td>219704</td>\n",
       "      <td>0</td>\n",
       "      <td>8890</td>\n",
       "      <td>I'm still genuinely in shock how great some of...</td>\n",
       "      <td>https://i.ytimg.com/vi/neIYdLysqlk/hqdefault.jpg</td>\n",
       "      <td>https://www.youtube.com/watch?v=neIYdLysqlk</td>\n",
       "    </tr>\n",
       "  </tbody>\n",
       "</table>\n",
       "</div>"
      ],
      "text/plain": [
       "      channel_name     video_id                            video_title  \\\n",
       "0  @Mrwhosetheboss  neIYdLysqlk  I tested the Craziest Xiaomi Gadgets!   \n",
       "\n",
       "     published_datetime  duration  view_count  like_count  dislike_count  \\\n",
       "0  2024-11-13T12:04:54Z  PT27M53S     6679521      219704              0   \n",
       "\n",
       "   comment_count                                        description  \\\n",
       "0           8890  I'm still genuinely in shock how great some of...   \n",
       "\n",
       "                                      thumbnail_url  \\\n",
       "0  https://i.ytimg.com/vi/neIYdLysqlk/hqdefault.jpg   \n",
       "\n",
       "                                     video_url  \n",
       "0  https://www.youtube.com/watch?v=neIYdLysqlk  "
      ]
     },
     "execution_count": 8,
     "metadata": {},
     "output_type": "execute_result"
    }
   ],
   "source": [
    "df.head(1)"
   ]
  },
  {
   "cell_type": "code",
   "execution_count": 9,
   "metadata": {},
   "outputs": [
    {
     "name": "stdout",
     "output_type": "stream",
     "text": [
      "<class 'pandas.core.frame.DataFrame'>\n",
      "RangeIndex: 45 entries, 0 to 44\n",
      "Data columns (total 12 columns):\n",
      " #   Column              Non-Null Count  Dtype \n",
      "---  ------              --------------  ----- \n",
      " 0   channel_name        45 non-null     object\n",
      " 1   video_id            45 non-null     object\n",
      " 2   video_title         45 non-null     object\n",
      " 3   published_datetime  45 non-null     object\n",
      " 4   duration            45 non-null     object\n",
      " 5   view_count          45 non-null     int64 \n",
      " 6   like_count          45 non-null     int64 \n",
      " 7   dislike_count       45 non-null     int64 \n",
      " 8   comment_count       45 non-null     int64 \n",
      " 9   description         45 non-null     object\n",
      " 10  thumbnail_url       45 non-null     object\n",
      " 11  video_url           45 non-null     object\n",
      "dtypes: int64(4), object(8)\n",
      "memory usage: 4.3+ KB\n"
     ]
    }
   ],
   "source": [
    "df.info()"
   ]
  },
  {
   "cell_type": "code",
   "execution_count": 10,
   "metadata": {},
   "outputs": [],
   "source": [
    "test_df = df.head(1)"
   ]
  },
  {
   "cell_type": "markdown",
   "metadata": {},
   "source": [
    "# Unified Code"
   ]
  },
  {
   "cell_type": "code",
   "execution_count": 11,
   "metadata": {},
   "outputs": [],
   "source": [
    "# Helper function to extract frames from a video\n",
    "def extract_frames(video_path, frame_rate=1):\n",
    "    clip = VideoFileClip(video_path)\n",
    "    fps = clip.fps\n",
    "    frame_list = []\n",
    "    timestamps = []\n",
    "\n",
    "    for i, frame in enumerate(clip.iter_frames()):\n",
    "        if i % int(fps / frame_rate) == 0:\n",
    "            image = Image.fromarray(frame)\n",
    "            buffer = io.BytesIO()\n",
    "            image.save(buffer, format=\"JPEG\")\n",
    "            buffer.seek(0)\n",
    "            frame_list.append(buffer)\n",
    "            timestamps.append(i / fps)\n",
    "\n",
    "    return frame_list, timestamps\n",
    "\n",
    "# Object detection using LLaMA\n",
    "def detect_objects(input_frames):\n",
    "    message_list = []\n",
    "    for frame in tqdm(input_frames, desc=\"Detecting Objects in Frames\"):\n",
    "        try:\n",
    "            # Read the BytesIO object into raw bytes\n",
    "            frame_bytes = frame.getvalue()\n",
    "            \n",
    "            # Use Ollama to send the frame for object detection\n",
    "            res = ollama.chat(\n",
    "                model=\"llava\",\n",
    "                messages=[\n",
    "                    {\n",
    "                        \"role\": \"user\",\n",
    "                        \"content\": \"Describe all objects seen in this image.\",\n",
    "                        \"images\": [frame_bytes],  # Pass raw bytes\n",
    "                    }\n",
    "                ],\n",
    "            )\n",
    "            message_list.append(res['message']['content'])\n",
    "        except Exception as e:\n",
    "            print(f\"Failed to process frame: {e}\")\n",
    "            message_list.append(\"Error processing frame\")\n",
    "    return message_list\n",
    "\n",
    "# Main function to analyze a single video\n",
    "def analyze_video(video_path):\n",
    "    print(f\"Analyzing video: {video_path}...\")\n",
    "    frames, timestamps = extract_frames(video_path, frame_rate=0.02)\n",
    "    print(\"Running object detection...\")\n",
    "    object_data = detect_objects(frames)\n",
    "\n",
    "    # Combine data into a DataFrame\n",
    "    data = {\n",
    "        \"Timestamp\": timestamps,\n",
    "        \"Detected Objects\": object_data,\n",
    "    }\n",
    "    df = pd.DataFrame(data)\n",
    "    return df\n",
    "\n",
    "# Function to download and analyze all videos in the DataFrame\n",
    "def download_and_analyze_videos(df):\n",
    "    os.makedirs(\"videos_downloaded\", exist_ok=True)\n",
    "\n",
    "    for index, row in tqdm(df.iterrows(), total=len(df), desc=\"Downloading Videos\"):\n",
    "        try:\n",
    "            url = row['video_url']\n",
    "            video_id = row['video_id']\n",
    "            download_path = \"videos_downloaded\"\n",
    "            output_filename = f\"{video_id}.mp4\"\n",
    "\n",
    "            # Download the video\n",
    "            yt = YouTube(url, on_progress_callback=on_progress)\n",
    "            ys = yt.streams.get_highest_resolution()\n",
    "            ys.download(output_path=download_path, filename=output_filename)\n",
    "\n",
    "            # Analyze the downloaded video\n",
    "            video_path = os.path.join(download_path, output_filename)\n",
    "            analysis_results = analyze_video(video_path)\n",
    "\n",
    "            # Save the analysis results\n",
    "            output_csv = os.path.join(\"videos_downloaded\", f\"{video_id}_analysis.csv\")\n",
    "            analysis_results.to_csv(output_csv, index=False)\n",
    "            print(f\"Analysis saved for {video_id} at {output_csv}\")\n",
    "        \n",
    "        except Exception as e:\n",
    "            print(f\"Failed to process video {row['video_url']}: {e}\")\n"
   ]
  },
  {
   "cell_type": "code",
   "execution_count": 12,
   "metadata": {},
   "outputs": [
    {
     "name": "stderr",
     "output_type": "stream",
     "text": [
      "Downloading Videos:   0%|          | 0/1 [00:00<?, ?it/s]"
     ]
    },
    {
     "name": "stdout",
     "output_type": "stream",
     "text": [
      "Analyzing video: videos_downloaded\\neIYdLysqlk.mp4....0%\n",
      "Running object detection...\n"
     ]
    },
    {
     "name": "stderr",
     "output_type": "stream",
     "text": [
      "\n",
      "Detecting Objects in Frames:   0%|          | 0/34 [00:00<?, ?it/s]\u001b[A\n",
      "Detecting Objects in Frames:   3%|▎         | 1/34 [00:11<06:08, 11.15s/it]\u001b[A\n",
      "Detecting Objects in Frames:   6%|▌         | 2/34 [00:13<03:19,  6.24s/it]\u001b[A\n",
      "Detecting Objects in Frames:   9%|▉         | 3/34 [00:16<02:18,  4.47s/it]\u001b[A\n",
      "Detecting Objects in Frames:  12%|█▏        | 4/34 [00:20<02:04,  4.17s/it]\u001b[A\n",
      "Detecting Objects in Frames:  15%|█▍        | 5/34 [00:23<01:56,  4.01s/it]\u001b[A\n",
      "Detecting Objects in Frames:  18%|█▊        | 6/34 [00:26<01:42,  3.65s/it]\u001b[A\n",
      "Detecting Objects in Frames:  21%|██        | 7/34 [00:29<01:34,  3.49s/it]\u001b[A\n",
      "Detecting Objects in Frames:  24%|██▎       | 8/34 [00:32<01:24,  3.26s/it]\u001b[A\n",
      "Detecting Objects in Frames:  26%|██▋       | 9/34 [00:35<01:20,  3.20s/it]\u001b[A\n",
      "Detecting Objects in Frames:  29%|██▉       | 10/34 [00:37<01:03,  2.66s/it]\u001b[A\n",
      "Detecting Objects in Frames:  32%|███▏      | 11/34 [00:40<01:08,  2.99s/it]\u001b[A\n",
      "Detecting Objects in Frames:  35%|███▌      | 12/34 [00:44<01:11,  3.25s/it]\u001b[A\n",
      "Detecting Objects in Frames:  38%|███▊      | 13/34 [00:48<01:10,  3.35s/it]\u001b[A\n",
      "Detecting Objects in Frames:  41%|████      | 14/34 [00:50<01:02,  3.11s/it]\u001b[A\n",
      "Detecting Objects in Frames:  44%|████▍     | 15/34 [00:54<00:59,  3.14s/it]\u001b[A\n",
      "Detecting Objects in Frames:  47%|████▋     | 16/34 [00:59<01:10,  3.91s/it]\u001b[A\n",
      "Detecting Objects in Frames:  50%|█████     | 17/34 [01:03<01:06,  3.93s/it]\u001b[A\n",
      "Detecting Objects in Frames:  53%|█████▎    | 18/34 [01:05<00:51,  3.24s/it]\u001b[A\n",
      "Detecting Objects in Frames:  56%|█████▌    | 19/34 [01:08<00:48,  3.24s/it]\u001b[A\n",
      "Detecting Objects in Frames:  59%|█████▉    | 20/34 [01:12<00:45,  3.28s/it]\u001b[A\n",
      "Detecting Objects in Frames:  62%|██████▏   | 21/34 [01:13<00:36,  2.77s/it]\u001b[A\n",
      "Detecting Objects in Frames:  65%|██████▍   | 22/34 [01:16<00:32,  2.75s/it]\u001b[A\n",
      "Detecting Objects in Frames:  68%|██████▊   | 23/34 [01:18<00:27,  2.49s/it]\u001b[A\n",
      "Detecting Objects in Frames:  71%|███████   | 24/34 [01:20<00:23,  2.38s/it]\u001b[A\n",
      "Detecting Objects in Frames:  74%|███████▎  | 25/34 [01:22<00:21,  2.38s/it]\u001b[A\n",
      "Detecting Objects in Frames:  76%|███████▋  | 26/34 [01:28<00:28,  3.51s/it]\u001b[A\n",
      "Detecting Objects in Frames:  79%|███████▉  | 27/34 [01:33<00:27,  3.96s/it]\u001b[A\n",
      "Detecting Objects in Frames:  82%|████████▏ | 28/34 [01:35<00:19,  3.33s/it]\u001b[A\n",
      "Detecting Objects in Frames:  85%|████████▌ | 29/34 [01:37<00:14,  2.87s/it]\u001b[A\n",
      "Detecting Objects in Frames:  88%|████████▊ | 30/34 [01:39<00:10,  2.52s/it]\u001b[A\n",
      "Detecting Objects in Frames:  91%|█████████ | 31/34 [01:41<00:07,  2.34s/it]\u001b[A\n",
      "Detecting Objects in Frames:  94%|█████████▍| 32/34 [01:45<00:05,  2.84s/it]\u001b[A\n",
      "Detecting Objects in Frames:  97%|█████████▋| 33/34 [01:47<00:02,  2.79s/it]\u001b[A\n",
      "Detecting Objects in Frames: 100%|██████████| 34/34 [01:49<00:00,  3.22s/it]\u001b[A\n",
      "Downloading Videos: 100%|██████████| 1/1 [02:22<00:00, 142.72s/it]"
     ]
    },
    {
     "name": "stdout",
     "output_type": "stream",
     "text": [
      "Analysis saved for neIYdLysqlk at videos_downloaded\\neIYdLysqlk_analysis.csv\n"
     ]
    },
    {
     "name": "stderr",
     "output_type": "stream",
     "text": [
      "\n"
     ]
    }
   ],
   "source": [
    "# Run the workflow\n",
    "download_and_analyze_videos(test_df)"
   ]
  },
  {
   "cell_type": "code",
   "execution_count": null,
   "metadata": {},
   "outputs": [],
   "source": []
  }
 ],
 "metadata": {
  "kernelspec": {
   "display_name": "Python 3 (ipykernel)",
   "language": "python",
   "name": "python3"
  },
  "language_info": {
   "codemirror_mode": {
    "name": "ipython",
    "version": 3
   },
   "file_extension": ".py",
   "mimetype": "text/x-python",
   "name": "python",
   "nbconvert_exporter": "python",
   "pygments_lexer": "ipython3",
   "version": "3.9.7"
  }
 },
 "nbformat": 4,
 "nbformat_minor": 2
}
